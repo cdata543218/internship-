{
 "cells": [
  {
   "cell_type": "code",
   "execution_count": 7,
   "id": "ea30eea7",
   "metadata": {},
   "outputs": [],
   "source": [
    "import selenium\n",
    "import pandas as pd\n",
    "from selenium import webdriver\n",
    "import warnings\n",
    "warnings.filterwarnings('ignore')\n",
    "from selenium.webdriver.common.by import By\n",
    "import time\n"
   ]
  },
  {
   "cell_type": "code",
   "execution_count": 8,
   "id": "5c686d7d",
   "metadata": {},
   "outputs": [],
   "source": [
    "#2\n",
    "driver =webdriver.Chrome()\n"
   ]
  },
  {
   "cell_type": "code",
   "execution_count": 9,
   "id": "322b1b5e",
   "metadata": {},
   "outputs": [],
   "source": [
    "#opening the webpage\n",
    "driver.get('https://www.shine.com/')"
   ]
  },
  {
   "cell_type": "code",
   "execution_count": 11,
   "id": "3138e5b4",
   "metadata": {},
   "outputs": [
    {
     "data": {
      "text/plain": [
       "<selenium.webdriver.remote.webelement.WebElement (session=\"c43684b0408112b0d5d79ae4c88ad36c\", element=\"f.97745AFE423BDF9EDCCFBC626907397A.d.19AFB11BD79E4934EEE20E2D52FDF4AF.e.29\")>"
      ]
     },
     "execution_count": 11,
     "metadata": {},
     "output_type": "execute_result"
    }
   ],
   "source": [
    "#finding elements for job search\n",
    "designation=driver.find_element(By.XPATH,' //*[@id=\"id_q\"] ')\n",
    "designation.send_keys(\"Data Analyst\")\n",
    "designation\n"
   ]
  },
  {
   "cell_type": "code",
   "execution_count": 14,
   "id": "0b7e08ec",
   "metadata": {},
   "outputs": [
    {
     "data": {
      "text/plain": [
       "<selenium.webdriver.remote.webelement.WebElement (session=\"c43684b0408112b0d5d79ae4c88ad36c\", element=\"f.97745AFE423BDF9EDCCFBC626907397A.d.19AFB11BD79E4934EEE20E2D52FDF4AF.e.31\")>"
      ]
     },
     "execution_count": 14,
     "metadata": {},
     "output_type": "execute_result"
    }
   ],
   "source": [
    "location_tag=driver.find_element(By.XPATH,'//*[@id=\"id_loc\"]')\n",
    "location_tag.send_keys(\"Bangalore\")\n",
    "location_tag"
   ]
  },
  {
   "cell_type": "code",
   "execution_count": 16,
   "id": "ab7130ed",
   "metadata": {},
   "outputs": [],
   "source": [
    "search=driver.find_element(By.XPATH,' //*[@id=\"__next\"]/div[4]/div/div[2]/div[2]/div/form/div/div[2]/div/button')\n",
    "search.click()"
   ]
  },
  {
   "cell_type": "code",
   "execution_count": 17,
   "id": "d9c0ad4b",
   "metadata": {},
   "outputs": [],
   "source": [
    "job_title=[]\n",
    "job_location=[] \n",
    "company_name=[]\n",
    "experience_required=[]"
   ]
  },
  {
   "cell_type": "code",
   "execution_count": null,
   "id": "316d8f76",
   "metadata": {},
   "outputs": [],
   "source": []
  },
  {
   "cell_type": "code",
   "execution_count": 25,
   "id": "452f4913",
   "metadata": {
    "scrolled": true
   },
   "outputs": [
    {
     "data": {
      "text/plain": [
       "[<selenium.webdriver.remote.webelement.WebElement (session=\"c43684b0408112b0d5d79ae4c88ad36c\", element=\"f.97745AFE423BDF9EDCCFBC626907397A.d.649706CA547B1E1D494F97494C64760E.e.9690\")>,\n",
       " <selenium.webdriver.remote.webelement.WebElement (session=\"c43684b0408112b0d5d79ae4c88ad36c\", element=\"f.97745AFE423BDF9EDCCFBC626907397A.d.649706CA547B1E1D494F97494C64760E.e.9734\")>,\n",
       " <selenium.webdriver.remote.webelement.WebElement (session=\"c43684b0408112b0d5d79ae4c88ad36c\", element=\"f.97745AFE423BDF9EDCCFBC626907397A.d.649706CA547B1E1D494F97494C64760E.e.9783\")>,\n",
       " <selenium.webdriver.remote.webelement.WebElement (session=\"c43684b0408112b0d5d79ae4c88ad36c\", element=\"f.97745AFE423BDF9EDCCFBC626907397A.d.649706CA547B1E1D494F97494C64760E.e.9825\")>,\n",
       " <selenium.webdriver.remote.webelement.WebElement (session=\"c43684b0408112b0d5d79ae4c88ad36c\", element=\"f.97745AFE423BDF9EDCCFBC626907397A.d.649706CA547B1E1D494F97494C64760E.e.9876\")>,\n",
       " <selenium.webdriver.remote.webelement.WebElement (session=\"c43684b0408112b0d5d79ae4c88ad36c\", element=\"f.97745AFE423BDF9EDCCFBC626907397A.d.649706CA547B1E1D494F97494C64760E.e.9919\")>,\n",
       " <selenium.webdriver.remote.webelement.WebElement (session=\"c43684b0408112b0d5d79ae4c88ad36c\", element=\"f.97745AFE423BDF9EDCCFBC626907397A.d.649706CA547B1E1D494F97494C64760E.e.9988\")>,\n",
       " <selenium.webdriver.remote.webelement.WebElement (session=\"c43684b0408112b0d5d79ae4c88ad36c\", element=\"f.97745AFE423BDF9EDCCFBC626907397A.d.649706CA547B1E1D494F97494C64760E.e.10028\")>,\n",
       " <selenium.webdriver.remote.webelement.WebElement (session=\"c43684b0408112b0d5d79ae4c88ad36c\", element=\"f.97745AFE423BDF9EDCCFBC626907397A.d.649706CA547B1E1D494F97494C64760E.e.10071\")>,\n",
       " <selenium.webdriver.remote.webelement.WebElement (session=\"c43684b0408112b0d5d79ae4c88ad36c\", element=\"f.97745AFE423BDF9EDCCFBC626907397A.d.649706CA547B1E1D494F97494C64760E.e.10115\")>,\n",
       " <selenium.webdriver.remote.webelement.WebElement (session=\"c43684b0408112b0d5d79ae4c88ad36c\", element=\"f.97745AFE423BDF9EDCCFBC626907397A.d.649706CA547B1E1D494F97494C64760E.e.10159\")>,\n",
       " <selenium.webdriver.remote.webelement.WebElement (session=\"c43684b0408112b0d5d79ae4c88ad36c\", element=\"f.97745AFE423BDF9EDCCFBC626907397A.d.649706CA547B1E1D494F97494C64760E.e.10202\")>,\n",
       " <selenium.webdriver.remote.webelement.WebElement (session=\"c43684b0408112b0d5d79ae4c88ad36c\", element=\"f.97745AFE423BDF9EDCCFBC626907397A.d.649706CA547B1E1D494F97494C64760E.e.10246\")>,\n",
       " <selenium.webdriver.remote.webelement.WebElement (session=\"c43684b0408112b0d5d79ae4c88ad36c\", element=\"f.97745AFE423BDF9EDCCFBC626907397A.d.649706CA547B1E1D494F97494C64760E.e.10289\")>,\n",
       " <selenium.webdriver.remote.webelement.WebElement (session=\"c43684b0408112b0d5d79ae4c88ad36c\", element=\"f.97745AFE423BDF9EDCCFBC626907397A.d.649706CA547B1E1D494F97494C64760E.e.10332\")>,\n",
       " <selenium.webdriver.remote.webelement.WebElement (session=\"c43684b0408112b0d5d79ae4c88ad36c\", element=\"f.97745AFE423BDF9EDCCFBC626907397A.d.649706CA547B1E1D494F97494C64760E.e.10376\")>,\n",
       " <selenium.webdriver.remote.webelement.WebElement (session=\"c43684b0408112b0d5d79ae4c88ad36c\", element=\"f.97745AFE423BDF9EDCCFBC626907397A.d.649706CA547B1E1D494F97494C64760E.e.10426\")>,\n",
       " <selenium.webdriver.remote.webelement.WebElement (session=\"c43684b0408112b0d5d79ae4c88ad36c\", element=\"f.97745AFE423BDF9EDCCFBC626907397A.d.649706CA547B1E1D494F97494C64760E.e.10466\")>,\n",
       " <selenium.webdriver.remote.webelement.WebElement (session=\"c43684b0408112b0d5d79ae4c88ad36c\", element=\"f.97745AFE423BDF9EDCCFBC626907397A.d.649706CA547B1E1D494F97494C64760E.e.10509\")>,\n",
       " <selenium.webdriver.remote.webelement.WebElement (session=\"c43684b0408112b0d5d79ae4c88ad36c\", element=\"f.97745AFE423BDF9EDCCFBC626907397A.d.649706CA547B1E1D494F97494C64760E.e.10552\")>]"
      ]
     },
     "execution_count": 25,
     "metadata": {},
     "output_type": "execute_result"
    }
   ],
   "source": [
    "#FINDING ALL THE TAGS OF THE JOB SEARCH\n",
    "#scraping job title\n",
    "title_tags=driver.find_elements(By.XPATH,'//strong[@class=\"jobCard_pReplaceH2__xWmHg\"]//a')\n",
    "title_tags"
   ]
  },
  {
   "cell_type": "code",
   "execution_count": 26,
   "id": "eae777aa",
   "metadata": {},
   "outputs": [
    {
     "data": {
      "text/plain": [
       "['Data Analyst Recruitment',\n",
       " 'Data Analyst Recruitment',\n",
       " 'Data Analyst (Power BI, Python, SQL)- Internal Audit do ...',\n",
       " 'Data Analyst',\n",
       " 'Clinical Data Analyst',\n",
       " 'Data Analyst',\n",
       " 'Data Governance Analyst',\n",
       " 'Data Analyst',\n",
       " 'Hiring For Data Analyst',\n",
       " 'Azure Data engineer']"
      ]
     },
     "execution_count": 26,
     "metadata": {},
     "output_type": "execute_result"
    }
   ],
   "source": [
    "for i in title_tags:\n",
    "    title=i.text\n",
    "    job_title.append(title)\n",
    "job_title[:10]"
   ]
  },
  {
   "cell_type": "code",
   "execution_count": 27,
   "id": "74f2005b",
   "metadata": {},
   "outputs": [
    {
     "data": {
      "text/plain": [
       "[<selenium.webdriver.remote.webelement.WebElement (session=\"c43684b0408112b0d5d79ae4c88ad36c\", element=\"f.97745AFE423BDF9EDCCFBC626907397A.d.649706CA547B1E1D494F97494C64760E.e.9705\")>,\n",
       " <selenium.webdriver.remote.webelement.WebElement (session=\"c43684b0408112b0d5d79ae4c88ad36c\", element=\"f.97745AFE423BDF9EDCCFBC626907397A.d.649706CA547B1E1D494F97494C64760E.e.9749\")>,\n",
       " <selenium.webdriver.remote.webelement.WebElement (session=\"c43684b0408112b0d5d79ae4c88ad36c\", element=\"f.97745AFE423BDF9EDCCFBC626907397A.d.649706CA547B1E1D494F97494C64760E.e.9795\")>,\n",
       " <selenium.webdriver.remote.webelement.WebElement (session=\"c43684b0408112b0d5d79ae4c88ad36c\", element=\"f.97745AFE423BDF9EDCCFBC626907397A.d.649706CA547B1E1D494F97494C64760E.e.9840\")>,\n",
       " <selenium.webdriver.remote.webelement.WebElement (session=\"c43684b0408112b0d5d79ae4c88ad36c\", element=\"f.97745AFE423BDF9EDCCFBC626907397A.d.649706CA547B1E1D494F97494C64760E.e.9891\")>,\n",
       " <selenium.webdriver.remote.webelement.WebElement (session=\"c43684b0408112b0d5d79ae4c88ad36c\", element=\"f.97745AFE423BDF9EDCCFBC626907397A.d.649706CA547B1E1D494F97494C64760E.e.9934\")>,\n",
       " <selenium.webdriver.remote.webelement.WebElement (session=\"c43684b0408112b0d5d79ae4c88ad36c\", element=\"f.97745AFE423BDF9EDCCFBC626907397A.d.649706CA547B1E1D494F97494C64760E.e.10000\")>,\n",
       " <selenium.webdriver.remote.webelement.WebElement (session=\"c43684b0408112b0d5d79ae4c88ad36c\", element=\"f.97745AFE423BDF9EDCCFBC626907397A.d.649706CA547B1E1D494F97494C64760E.e.10043\")>,\n",
       " <selenium.webdriver.remote.webelement.WebElement (session=\"c43684b0408112b0d5d79ae4c88ad36c\", element=\"f.97745AFE423BDF9EDCCFBC626907397A.d.649706CA547B1E1D494F97494C64760E.e.10086\")>,\n",
       " <selenium.webdriver.remote.webelement.WebElement (session=\"c43684b0408112b0d5d79ae4c88ad36c\", element=\"f.97745AFE423BDF9EDCCFBC626907397A.d.649706CA547B1E1D494F97494C64760E.e.10130\")>,\n",
       " <selenium.webdriver.remote.webelement.WebElement (session=\"c43684b0408112b0d5d79ae4c88ad36c\", element=\"f.97745AFE423BDF9EDCCFBC626907397A.d.649706CA547B1E1D494F97494C64760E.e.10174\")>,\n",
       " <selenium.webdriver.remote.webelement.WebElement (session=\"c43684b0408112b0d5d79ae4c88ad36c\", element=\"f.97745AFE423BDF9EDCCFBC626907397A.d.649706CA547B1E1D494F97494C64760E.e.10217\")>,\n",
       " <selenium.webdriver.remote.webelement.WebElement (session=\"c43684b0408112b0d5d79ae4c88ad36c\", element=\"f.97745AFE423BDF9EDCCFBC626907397A.d.649706CA547B1E1D494F97494C64760E.e.10261\")>,\n",
       " <selenium.webdriver.remote.webelement.WebElement (session=\"c43684b0408112b0d5d79ae4c88ad36c\", element=\"f.97745AFE423BDF9EDCCFBC626907397A.d.649706CA547B1E1D494F97494C64760E.e.10304\")>,\n",
       " <selenium.webdriver.remote.webelement.WebElement (session=\"c43684b0408112b0d5d79ae4c88ad36c\", element=\"f.97745AFE423BDF9EDCCFBC626907397A.d.649706CA547B1E1D494F97494C64760E.e.10347\")>,\n",
       " <selenium.webdriver.remote.webelement.WebElement (session=\"c43684b0408112b0d5d79ae4c88ad36c\", element=\"f.97745AFE423BDF9EDCCFBC626907397A.d.649706CA547B1E1D494F97494C64760E.e.10391\")>,\n",
       " <selenium.webdriver.remote.webelement.WebElement (session=\"c43684b0408112b0d5d79ae4c88ad36c\", element=\"f.97745AFE423BDF9EDCCFBC626907397A.d.649706CA547B1E1D494F97494C64760E.e.10438\")>,\n",
       " <selenium.webdriver.remote.webelement.WebElement (session=\"c43684b0408112b0d5d79ae4c88ad36c\", element=\"f.97745AFE423BDF9EDCCFBC626907397A.d.649706CA547B1E1D494F97494C64760E.e.10481\")>,\n",
       " <selenium.webdriver.remote.webelement.WebElement (session=\"c43684b0408112b0d5d79ae4c88ad36c\", element=\"f.97745AFE423BDF9EDCCFBC626907397A.d.649706CA547B1E1D494F97494C64760E.e.10524\")>,\n",
       " <selenium.webdriver.remote.webelement.WebElement (session=\"c43684b0408112b0d5d79ae4c88ad36c\", element=\"f.97745AFE423BDF9EDCCFBC626907397A.d.649706CA547B1E1D494F97494C64760E.e.10567\")>]"
      ]
     },
     "execution_count": 27,
     "metadata": {},
     "output_type": "execute_result"
    }
   ],
   "source": [
    "#scraping job locations\n",
    "location_tags=driver.find_elements(By.XPATH,'//div[@class=\" jobCard_jobCard_lists_item__YxRkV jobCard_locationIcon__zrWt2\"]')\n",
    "location_tags"
   ]
  },
  {
   "cell_type": "code",
   "execution_count": 28,
   "id": "56131222",
   "metadata": {},
   "outputs": [
    {
     "data": {
      "text/plain": [
       "['Bangalore\\n+12',\n",
       " 'Bangalore\\n+12',\n",
       " 'Bangalore',\n",
       " 'Bangalore\\n+12',\n",
       " 'Bangalore\\n+6',\n",
       " 'Bangalore\\n+9',\n",
       " 'Bangalore',\n",
       " 'Bangalore\\n+9',\n",
       " 'Bangalore\\n+12',\n",
       " 'Bangalore\\n+4']"
      ]
     },
     "execution_count": 28,
     "metadata": {},
     "output_type": "execute_result"
    }
   ],
   "source": [
    "for i in location_tags:\n",
    "    location=i.text\n",
    "    job_location.append(location)\n",
    "    \n",
    "job_location[:10]\n"
   ]
  },
  {
   "cell_type": "code",
   "execution_count": 29,
   "id": "c97ba4dc",
   "metadata": {},
   "outputs": [
    {
     "data": {
      "text/plain": [
       "[<selenium.webdriver.remote.webelement.WebElement (session=\"c43684b0408112b0d5d79ae4c88ad36c\", element=\"f.97745AFE423BDF9EDCCFBC626907397A.d.649706CA547B1E1D494F97494C64760E.e.20165\")>,\n",
       " <selenium.webdriver.remote.webelement.WebElement (session=\"c43684b0408112b0d5d79ae4c88ad36c\", element=\"f.97745AFE423BDF9EDCCFBC626907397A.d.649706CA547B1E1D494F97494C64760E.e.20209\")>,\n",
       " <selenium.webdriver.remote.webelement.WebElement (session=\"c43684b0408112b0d5d79ae4c88ad36c\", element=\"f.97745AFE423BDF9EDCCFBC626907397A.d.649706CA547B1E1D494F97494C64760E.e.20258\")>,\n",
       " <selenium.webdriver.remote.webelement.WebElement (session=\"c43684b0408112b0d5d79ae4c88ad36c\", element=\"f.97745AFE423BDF9EDCCFBC626907397A.d.649706CA547B1E1D494F97494C64760E.e.20300\")>,\n",
       " <selenium.webdriver.remote.webelement.WebElement (session=\"c43684b0408112b0d5d79ae4c88ad36c\", element=\"f.97745AFE423BDF9EDCCFBC626907397A.d.649706CA547B1E1D494F97494C64760E.e.20351\")>,\n",
       " <selenium.webdriver.remote.webelement.WebElement (session=\"c43684b0408112b0d5d79ae4c88ad36c\", element=\"f.97745AFE423BDF9EDCCFBC626907397A.d.649706CA547B1E1D494F97494C64760E.e.20394\")>,\n",
       " <selenium.webdriver.remote.webelement.WebElement (session=\"c43684b0408112b0d5d79ae4c88ad36c\", element=\"f.97745AFE423BDF9EDCCFBC626907397A.d.649706CA547B1E1D494F97494C64760E.e.20463\")>,\n",
       " <selenium.webdriver.remote.webelement.WebElement (session=\"c43684b0408112b0d5d79ae4c88ad36c\", element=\"f.97745AFE423BDF9EDCCFBC626907397A.d.649706CA547B1E1D494F97494C64760E.e.20503\")>,\n",
       " <selenium.webdriver.remote.webelement.WebElement (session=\"c43684b0408112b0d5d79ae4c88ad36c\", element=\"f.97745AFE423BDF9EDCCFBC626907397A.d.649706CA547B1E1D494F97494C64760E.e.20546\")>,\n",
       " <selenium.webdriver.remote.webelement.WebElement (session=\"c43684b0408112b0d5d79ae4c88ad36c\", element=\"f.97745AFE423BDF9EDCCFBC626907397A.d.649706CA547B1E1D494F97494C64760E.e.20590\")>,\n",
       " <selenium.webdriver.remote.webelement.WebElement (session=\"c43684b0408112b0d5d79ae4c88ad36c\", element=\"f.97745AFE423BDF9EDCCFBC626907397A.d.649706CA547B1E1D494F97494C64760E.e.20634\")>,\n",
       " <selenium.webdriver.remote.webelement.WebElement (session=\"c43684b0408112b0d5d79ae4c88ad36c\", element=\"f.97745AFE423BDF9EDCCFBC626907397A.d.649706CA547B1E1D494F97494C64760E.e.20677\")>,\n",
       " <selenium.webdriver.remote.webelement.WebElement (session=\"c43684b0408112b0d5d79ae4c88ad36c\", element=\"f.97745AFE423BDF9EDCCFBC626907397A.d.649706CA547B1E1D494F97494C64760E.e.20721\")>,\n",
       " <selenium.webdriver.remote.webelement.WebElement (session=\"c43684b0408112b0d5d79ae4c88ad36c\", element=\"f.97745AFE423BDF9EDCCFBC626907397A.d.649706CA547B1E1D494F97494C64760E.e.20764\")>,\n",
       " <selenium.webdriver.remote.webelement.WebElement (session=\"c43684b0408112b0d5d79ae4c88ad36c\", element=\"f.97745AFE423BDF9EDCCFBC626907397A.d.649706CA547B1E1D494F97494C64760E.e.20807\")>,\n",
       " <selenium.webdriver.remote.webelement.WebElement (session=\"c43684b0408112b0d5d79ae4c88ad36c\", element=\"f.97745AFE423BDF9EDCCFBC626907397A.d.649706CA547B1E1D494F97494C64760E.e.20851\")>,\n",
       " <selenium.webdriver.remote.webelement.WebElement (session=\"c43684b0408112b0d5d79ae4c88ad36c\", element=\"f.97745AFE423BDF9EDCCFBC626907397A.d.649706CA547B1E1D494F97494C64760E.e.20901\")>,\n",
       " <selenium.webdriver.remote.webelement.WebElement (session=\"c43684b0408112b0d5d79ae4c88ad36c\", element=\"f.97745AFE423BDF9EDCCFBC626907397A.d.649706CA547B1E1D494F97494C64760E.e.20941\")>,\n",
       " <selenium.webdriver.remote.webelement.WebElement (session=\"c43684b0408112b0d5d79ae4c88ad36c\", element=\"f.97745AFE423BDF9EDCCFBC626907397A.d.649706CA547B1E1D494F97494C64760E.e.20984\")>,\n",
       " <selenium.webdriver.remote.webelement.WebElement (session=\"c43684b0408112b0d5d79ae4c88ad36c\", element=\"f.97745AFE423BDF9EDCCFBC626907397A.d.649706CA547B1E1D494F97494C64760E.e.21027\")>]"
      ]
     },
     "execution_count": 29,
     "metadata": {},
     "output_type": "execute_result"
    }
   ],
   "source": [
    "#scraping companies name\n",
    "company_tags=driver.find_elements(By.XPATH,'//div[@class=\"jobCard_jobCard_cName__mYnow\"]//span')\n",
    "company_tags"
   ]
  },
  {
   "cell_type": "code",
   "execution_count": 32,
   "id": "76f4c3e6",
   "metadata": {},
   "outputs": [
    {
     "data": {
      "text/plain": [
       "['radhika enterprises',\n",
       " 'radhika enterprises',\n",
       " 'talent leads hr solutions pvt ltd',\n",
       " 'millennium babycares private limite...',\n",
       " 'techno endura',\n",
       " 'sahast sales corporation',\n",
       " 'white horse manpower consultancy (p...',\n",
       " 'sahast sales corporation',\n",
       " 'radhika enterprises',\n",
       " 'capgemini technology services india...']"
      ]
     },
     "execution_count": 32,
     "metadata": {},
     "output_type": "execute_result"
    }
   ],
   "source": [
    "for i in company_tags:\n",
    "    company=i.text\n",
    "    company_name.append(company)\n",
    "company_name[:10]"
   ]
  },
  {
   "cell_type": "code",
   "execution_count": 33,
   "id": "e92eab48",
   "metadata": {},
   "outputs": [
    {
     "data": {
      "text/plain": [
       "[<selenium.webdriver.remote.webelement.WebElement (session=\"c43684b0408112b0d5d79ae4c88ad36c\", element=\"f.97745AFE423BDF9EDCCFBC626907397A.d.649706CA547B1E1D494F97494C64760E.e.20169\")>,\n",
       " <selenium.webdriver.remote.webelement.WebElement (session=\"c43684b0408112b0d5d79ae4c88ad36c\", element=\"f.97745AFE423BDF9EDCCFBC626907397A.d.649706CA547B1E1D494F97494C64760E.e.20213\")>,\n",
       " <selenium.webdriver.remote.webelement.WebElement (session=\"c43684b0408112b0d5d79ae4c88ad36c\", element=\"f.97745AFE423BDF9EDCCFBC626907397A.d.649706CA547B1E1D494F97494C64760E.e.20262\")>,\n",
       " <selenium.webdriver.remote.webelement.WebElement (session=\"c43684b0408112b0d5d79ae4c88ad36c\", element=\"f.97745AFE423BDF9EDCCFBC626907397A.d.649706CA547B1E1D494F97494C64760E.e.20304\")>,\n",
       " <selenium.webdriver.remote.webelement.WebElement (session=\"c43684b0408112b0d5d79ae4c88ad36c\", element=\"f.97745AFE423BDF9EDCCFBC626907397A.d.649706CA547B1E1D494F97494C64760E.e.20355\")>,\n",
       " <selenium.webdriver.remote.webelement.WebElement (session=\"c43684b0408112b0d5d79ae4c88ad36c\", element=\"f.97745AFE423BDF9EDCCFBC626907397A.d.649706CA547B1E1D494F97494C64760E.e.20398\")>,\n",
       " <selenium.webdriver.remote.webelement.WebElement (session=\"c43684b0408112b0d5d79ae4c88ad36c\", element=\"f.97745AFE423BDF9EDCCFBC626907397A.d.649706CA547B1E1D494F97494C64760E.e.20467\")>,\n",
       " <selenium.webdriver.remote.webelement.WebElement (session=\"c43684b0408112b0d5d79ae4c88ad36c\", element=\"f.97745AFE423BDF9EDCCFBC626907397A.d.649706CA547B1E1D494F97494C64760E.e.20507\")>,\n",
       " <selenium.webdriver.remote.webelement.WebElement (session=\"c43684b0408112b0d5d79ae4c88ad36c\", element=\"f.97745AFE423BDF9EDCCFBC626907397A.d.649706CA547B1E1D494F97494C64760E.e.20550\")>,\n",
       " <selenium.webdriver.remote.webelement.WebElement (session=\"c43684b0408112b0d5d79ae4c88ad36c\", element=\"f.97745AFE423BDF9EDCCFBC626907397A.d.649706CA547B1E1D494F97494C64760E.e.20594\")>,\n",
       " <selenium.webdriver.remote.webelement.WebElement (session=\"c43684b0408112b0d5d79ae4c88ad36c\", element=\"f.97745AFE423BDF9EDCCFBC626907397A.d.649706CA547B1E1D494F97494C64760E.e.20638\")>,\n",
       " <selenium.webdriver.remote.webelement.WebElement (session=\"c43684b0408112b0d5d79ae4c88ad36c\", element=\"f.97745AFE423BDF9EDCCFBC626907397A.d.649706CA547B1E1D494F97494C64760E.e.20681\")>,\n",
       " <selenium.webdriver.remote.webelement.WebElement (session=\"c43684b0408112b0d5d79ae4c88ad36c\", element=\"f.97745AFE423BDF9EDCCFBC626907397A.d.649706CA547B1E1D494F97494C64760E.e.20725\")>,\n",
       " <selenium.webdriver.remote.webelement.WebElement (session=\"c43684b0408112b0d5d79ae4c88ad36c\", element=\"f.97745AFE423BDF9EDCCFBC626907397A.d.649706CA547B1E1D494F97494C64760E.e.20768\")>,\n",
       " <selenium.webdriver.remote.webelement.WebElement (session=\"c43684b0408112b0d5d79ae4c88ad36c\", element=\"f.97745AFE423BDF9EDCCFBC626907397A.d.649706CA547B1E1D494F97494C64760E.e.20811\")>,\n",
       " <selenium.webdriver.remote.webelement.WebElement (session=\"c43684b0408112b0d5d79ae4c88ad36c\", element=\"f.97745AFE423BDF9EDCCFBC626907397A.d.649706CA547B1E1D494F97494C64760E.e.20855\")>,\n",
       " <selenium.webdriver.remote.webelement.WebElement (session=\"c43684b0408112b0d5d79ae4c88ad36c\", element=\"f.97745AFE423BDF9EDCCFBC626907397A.d.649706CA547B1E1D494F97494C64760E.e.20905\")>,\n",
       " <selenium.webdriver.remote.webelement.WebElement (session=\"c43684b0408112b0d5d79ae4c88ad36c\", element=\"f.97745AFE423BDF9EDCCFBC626907397A.d.649706CA547B1E1D494F97494C64760E.e.20945\")>,\n",
       " <selenium.webdriver.remote.webelement.WebElement (session=\"c43684b0408112b0d5d79ae4c88ad36c\", element=\"f.97745AFE423BDF9EDCCFBC626907397A.d.649706CA547B1E1D494F97494C64760E.e.20988\")>,\n",
       " <selenium.webdriver.remote.webelement.WebElement (session=\"c43684b0408112b0d5d79ae4c88ad36c\", element=\"f.97745AFE423BDF9EDCCFBC626907397A.d.649706CA547B1E1D494F97494C64760E.e.21031\")>]"
      ]
     },
     "execution_count": 33,
     "metadata": {},
     "output_type": "execute_result"
    }
   ],
   "source": [
    "#scraping experience required in jobs\n",
    "experienced_tags=driver.find_elements(By.XPATH,'//div[@class=\" jobCard_jobCard_lists_item__YxRkV jobCard_jobIcon__3FB1t\"]')\n",
    "experienced_tags"
   ]
  },
  {
   "cell_type": "code",
   "execution_count": 36,
   "id": "be7b390a",
   "metadata": {},
   "outputs": [
    {
     "data": {
      "text/plain": [
       "['0 to 4 Yrs',\n",
       " '0 to 4 Yrs',\n",
       " '3 to 8 Yrs',\n",
       " '9 to 14 Yrs',\n",
       " '0 to 1 Yr',\n",
       " '12 to 22 Yrs',\n",
       " '5 to 8 Yrs',\n",
       " '12 to 22 Yrs',\n",
       " '0 to 4 Yrs',\n",
       " '6 to 10 Yrs']"
      ]
     },
     "execution_count": 36,
     "metadata": {},
     "output_type": "execute_result"
    }
   ],
   "source": [
    "for i in experienced_tags:\n",
    "    experience=i.text\n",
    "    experience_required.append(experience)\n",
    "experience_required[:10]"
   ]
  },
  {
   "cell_type": "code",
   "execution_count": 38,
   "id": "d229b18f",
   "metadata": {},
   "outputs": [],
   "source": [
    "#creating dataframe \n",
    "jobs=pd.DataFrame({})\n",
    "jobs[\"title\"]=job_title[:10]\n",
    "jobs[\"location\"]=job_location[:10]\n",
    "jobs[\"company\"]=company_name[:10]\n",
    "jobs[\"experience\"]=experience_required[:10]"
   ]
  },
  {
   "cell_type": "code",
   "execution_count": 39,
   "id": "f518f0df",
   "metadata": {
    "scrolled": true
   },
   "outputs": [
    {
     "data": {
      "text/html": [
       "<div>\n",
       "<style scoped>\n",
       "    .dataframe tbody tr th:only-of-type {\n",
       "        vertical-align: middle;\n",
       "    }\n",
       "\n",
       "    .dataframe tbody tr th {\n",
       "        vertical-align: top;\n",
       "    }\n",
       "\n",
       "    .dataframe thead th {\n",
       "        text-align: right;\n",
       "    }\n",
       "</style>\n",
       "<table border=\"1\" class=\"dataframe\">\n",
       "  <thead>\n",
       "    <tr style=\"text-align: right;\">\n",
       "      <th></th>\n",
       "      <th>title</th>\n",
       "      <th>location</th>\n",
       "      <th>company</th>\n",
       "      <th>experience</th>\n",
       "    </tr>\n",
       "  </thead>\n",
       "  <tbody>\n",
       "    <tr>\n",
       "      <th>0</th>\n",
       "      <td>Data Analyst Recruitment</td>\n",
       "      <td>Bangalore\\n+12</td>\n",
       "      <td>radhika enterprises</td>\n",
       "      <td>0 to 4 Yrs</td>\n",
       "    </tr>\n",
       "    <tr>\n",
       "      <th>1</th>\n",
       "      <td>Data Analyst Recruitment</td>\n",
       "      <td>Bangalore\\n+12</td>\n",
       "      <td>radhika enterprises</td>\n",
       "      <td>0 to 4 Yrs</td>\n",
       "    </tr>\n",
       "    <tr>\n",
       "      <th>2</th>\n",
       "      <td>Data Analyst (Power BI, Python, SQL)- Internal...</td>\n",
       "      <td>Bangalore</td>\n",
       "      <td>talent leads hr solutions pvt ltd</td>\n",
       "      <td>3 to 8 Yrs</td>\n",
       "    </tr>\n",
       "    <tr>\n",
       "      <th>3</th>\n",
       "      <td>Data Analyst</td>\n",
       "      <td>Bangalore\\n+12</td>\n",
       "      <td>millennium babycares private limite...</td>\n",
       "      <td>9 to 14 Yrs</td>\n",
       "    </tr>\n",
       "    <tr>\n",
       "      <th>4</th>\n",
       "      <td>Clinical Data Analyst</td>\n",
       "      <td>Bangalore\\n+6</td>\n",
       "      <td>techno endura</td>\n",
       "      <td>0 to 1 Yr</td>\n",
       "    </tr>\n",
       "    <tr>\n",
       "      <th>5</th>\n",
       "      <td>Data Analyst</td>\n",
       "      <td>Bangalore\\n+9</td>\n",
       "      <td>sahast sales corporation</td>\n",
       "      <td>12 to 22 Yrs</td>\n",
       "    </tr>\n",
       "    <tr>\n",
       "      <th>6</th>\n",
       "      <td>Data Governance Analyst</td>\n",
       "      <td>Bangalore</td>\n",
       "      <td>white horse manpower consultancy (p...</td>\n",
       "      <td>5 to 8 Yrs</td>\n",
       "    </tr>\n",
       "    <tr>\n",
       "      <th>7</th>\n",
       "      <td>Data Analyst</td>\n",
       "      <td>Bangalore\\n+9</td>\n",
       "      <td>sahast sales corporation</td>\n",
       "      <td>12 to 22 Yrs</td>\n",
       "    </tr>\n",
       "    <tr>\n",
       "      <th>8</th>\n",
       "      <td>Hiring For Data Analyst</td>\n",
       "      <td>Bangalore\\n+12</td>\n",
       "      <td>radhika enterprises</td>\n",
       "      <td>0 to 4 Yrs</td>\n",
       "    </tr>\n",
       "    <tr>\n",
       "      <th>9</th>\n",
       "      <td>Azure Data engineer</td>\n",
       "      <td>Bangalore\\n+4</td>\n",
       "      <td>capgemini technology services india...</td>\n",
       "      <td>6 to 10 Yrs</td>\n",
       "    </tr>\n",
       "  </tbody>\n",
       "</table>\n",
       "</div>"
      ],
      "text/plain": [
       "                                               title        location  \\\n",
       "0                           Data Analyst Recruitment  Bangalore\\n+12   \n",
       "1                           Data Analyst Recruitment  Bangalore\\n+12   \n",
       "2  Data Analyst (Power BI, Python, SQL)- Internal...       Bangalore   \n",
       "3                                       Data Analyst  Bangalore\\n+12   \n",
       "4                              Clinical Data Analyst   Bangalore\\n+6   \n",
       "5                                       Data Analyst   Bangalore\\n+9   \n",
       "6                            Data Governance Analyst       Bangalore   \n",
       "7                                       Data Analyst   Bangalore\\n+9   \n",
       "8                            Hiring For Data Analyst  Bangalore\\n+12   \n",
       "9                                Azure Data engineer   Bangalore\\n+4   \n",
       "\n",
       "                                  company    experience  \n",
       "0                     radhika enterprises    0 to 4 Yrs  \n",
       "1                     radhika enterprises    0 to 4 Yrs  \n",
       "2       talent leads hr solutions pvt ltd    3 to 8 Yrs  \n",
       "3  millennium babycares private limite...   9 to 14 Yrs  \n",
       "4                           techno endura     0 to 1 Yr  \n",
       "5                sahast sales corporation  12 to 22 Yrs  \n",
       "6  white horse manpower consultancy (p...    5 to 8 Yrs  \n",
       "7                sahast sales corporation  12 to 22 Yrs  \n",
       "8                     radhika enterprises    0 to 4 Yrs  \n",
       "9  capgemini technology services india...   6 to 10 Yrs  "
      ]
     },
     "execution_count": 39,
     "metadata": {},
     "output_type": "execute_result"
    }
   ],
   "source": [
    "jobs"
   ]
  },
  {
   "cell_type": "code",
   "execution_count": 8,
   "id": "24210e67",
   "metadata": {},
   "outputs": [],
   "source": [
    "#1\n",
    "import selenium\n",
    "import pandas as pd\n",
    "from selenium import webdriver\n",
    "import warnings\n",
    "warnings.filterwarnings('ignore')\n",
    "from selenium.webdriver.common.by import By\n",
    "import time\n"
   ]
  },
  {
   "cell_type": "code",
   "execution_count": 9,
   "id": "51d8163a",
   "metadata": {},
   "outputs": [],
   "source": [
    "driver=webdriver.Chrome()"
   ]
  },
  {
   "cell_type": "code",
   "execution_count": 10,
   "id": "ad79d20c",
   "metadata": {},
   "outputs": [],
   "source": [
    "driver.get(' https://www.naukri.com/')"
   ]
  },
  {
   "cell_type": "code",
   "execution_count": 11,
   "id": "a355c8a6",
   "metadata": {},
   "outputs": [
    {
     "data": {
      "text/plain": [
       "<selenium.webdriver.remote.webelement.WebElement (session=\"5cbfbdb1303487d0c5a050967b0697f7\", element=\"f.0440D5CBDE4D3D8651D4AE4141E276C9.d.3C0843BC62D0DC81C8F4176305A6A018.e.11\")>"
      ]
     },
     "execution_count": 11,
     "metadata": {},
     "output_type": "execute_result"
    }
   ],
   "source": [
    "designation=driver.find_element(By.CLASS_NAME,'suggestor-input ')\n",
    "designation.send_keys('Data Scientist')\n",
    "designation"
   ]
  },
  {
   "cell_type": "code",
   "execution_count": 12,
   "id": "e8f470ef",
   "metadata": {},
   "outputs": [],
   "source": [
    "search_btn=driver.find_element(By.CLASS_NAME,'qsbSubmit')\n",
    "search_btn.click()"
   ]
  },
  {
   "cell_type": "code",
   "execution_count": 27,
   "id": "a5fd5126",
   "metadata": {},
   "outputs": [],
   "source": [
    "job_title=[]\n",
    "job_location=[] \n",
    "company_name=[]\n",
    "experience_required=[]"
   ]
  },
  {
   "cell_type": "code",
   "execution_count": 15,
   "id": "0f3e7ad0",
   "metadata": {},
   "outputs": [],
   "source": [
    "location_filter=driver.find_element(By.XPATH,'//*[@id=\"search-result-container\"]/div[1]/div[1]/div/div/div[2]/div[5]/div[2]/div[2]/label')\n",
    "location_filter.click()"
   ]
  },
  {
   "cell_type": "code",
   "execution_count": 17,
   "id": "a2425c9b",
   "metadata": {},
   "outputs": [],
   "source": [
    "salary_filter=driver.find_element(By.XPATH,'//*[@id=\"search-result-container\"]/div[1]/div[1]/div/div/div[2]/div[6]/div[2]/div[2]')\n",
    "salary_filter.click()"
   ]
  },
  {
   "cell_type": "code",
   "execution_count": 28,
   "id": "a2e639df",
   "metadata": {},
   "outputs": [
    {
     "data": {
      "text/plain": [
       "[<selenium.webdriver.remote.webelement.WebElement (session=\"5cbfbdb1303487d0c5a050967b0697f7\", element=\"f.0440D5CBDE4D3D8651D4AE4141E276C9.d.8EE2367EE2E76AD083F0FF3CEACDF400.e.10841\")>,\n",
       " <selenium.webdriver.remote.webelement.WebElement (session=\"5cbfbdb1303487d0c5a050967b0697f7\", element=\"f.0440D5CBDE4D3D8651D4AE4141E276C9.d.8EE2367EE2E76AD083F0FF3CEACDF400.e.10917\")>,\n",
       " <selenium.webdriver.remote.webelement.WebElement (session=\"5cbfbdb1303487d0c5a050967b0697f7\", element=\"f.0440D5CBDE4D3D8651D4AE4141E276C9.d.8EE2367EE2E76AD083F0FF3CEACDF400.e.10996\")>,\n",
       " <selenium.webdriver.remote.webelement.WebElement (session=\"5cbfbdb1303487d0c5a050967b0697f7\", element=\"f.0440D5CBDE4D3D8651D4AE4141E276C9.d.8EE2367EE2E76AD083F0FF3CEACDF400.e.11090\")>,\n",
       " <selenium.webdriver.remote.webelement.WebElement (session=\"5cbfbdb1303487d0c5a050967b0697f7\", element=\"f.0440D5CBDE4D3D8651D4AE4141E276C9.d.8EE2367EE2E76AD083F0FF3CEACDF400.e.11149\")>,\n",
       " <selenium.webdriver.remote.webelement.WebElement (session=\"5cbfbdb1303487d0c5a050967b0697f7\", element=\"f.0440D5CBDE4D3D8651D4AE4141E276C9.d.8EE2367EE2E76AD083F0FF3CEACDF400.e.11205\")>,\n",
       " <selenium.webdriver.remote.webelement.WebElement (session=\"5cbfbdb1303487d0c5a050967b0697f7\", element=\"f.0440D5CBDE4D3D8651D4AE4141E276C9.d.8EE2367EE2E76AD083F0FF3CEACDF400.e.11264\")>,\n",
       " <selenium.webdriver.remote.webelement.WebElement (session=\"5cbfbdb1303487d0c5a050967b0697f7\", element=\"f.0440D5CBDE4D3D8651D4AE4141E276C9.d.8EE2367EE2E76AD083F0FF3CEACDF400.e.11323\")>,\n",
       " <selenium.webdriver.remote.webelement.WebElement (session=\"5cbfbdb1303487d0c5a050967b0697f7\", element=\"f.0440D5CBDE4D3D8651D4AE4141E276C9.d.8EE2367EE2E76AD083F0FF3CEACDF400.e.11386\")>,\n",
       " <selenium.webdriver.remote.webelement.WebElement (session=\"5cbfbdb1303487d0c5a050967b0697f7\", element=\"f.0440D5CBDE4D3D8651D4AE4141E276C9.d.8EE2367EE2E76AD083F0FF3CEACDF400.e.11462\")>,\n",
       " <selenium.webdriver.remote.webelement.WebElement (session=\"5cbfbdb1303487d0c5a050967b0697f7\", element=\"f.0440D5CBDE4D3D8651D4AE4141E276C9.d.8EE2367EE2E76AD083F0FF3CEACDF400.e.11538\")>,\n",
       " <selenium.webdriver.remote.webelement.WebElement (session=\"5cbfbdb1303487d0c5a050967b0697f7\", element=\"f.0440D5CBDE4D3D8651D4AE4141E276C9.d.8EE2367EE2E76AD083F0FF3CEACDF400.e.11616\")>,\n",
       " <selenium.webdriver.remote.webelement.WebElement (session=\"5cbfbdb1303487d0c5a050967b0697f7\", element=\"f.0440D5CBDE4D3D8651D4AE4141E276C9.d.8EE2367EE2E76AD083F0FF3CEACDF400.e.11719\")>,\n",
       " <selenium.webdriver.remote.webelement.WebElement (session=\"5cbfbdb1303487d0c5a050967b0697f7\", element=\"f.0440D5CBDE4D3D8651D4AE4141E276C9.d.8EE2367EE2E76AD083F0FF3CEACDF400.e.11795\")>,\n",
       " <selenium.webdriver.remote.webelement.WebElement (session=\"5cbfbdb1303487d0c5a050967b0697f7\", element=\"f.0440D5CBDE4D3D8651D4AE4141E276C9.d.8EE2367EE2E76AD083F0FF3CEACDF400.e.11865\")>,\n",
       " <selenium.webdriver.remote.webelement.WebElement (session=\"5cbfbdb1303487d0c5a050967b0697f7\", element=\"f.0440D5CBDE4D3D8651D4AE4141E276C9.d.8EE2367EE2E76AD083F0FF3CEACDF400.e.11943\")>,\n",
       " <selenium.webdriver.remote.webelement.WebElement (session=\"5cbfbdb1303487d0c5a050967b0697f7\", element=\"f.0440D5CBDE4D3D8651D4AE4141E276C9.d.8EE2367EE2E76AD083F0FF3CEACDF400.e.12021\")>,\n",
       " <selenium.webdriver.remote.webelement.WebElement (session=\"5cbfbdb1303487d0c5a050967b0697f7\", element=\"f.0440D5CBDE4D3D8651D4AE4141E276C9.d.8EE2367EE2E76AD083F0FF3CEACDF400.e.12097\")>,\n",
       " <selenium.webdriver.remote.webelement.WebElement (session=\"5cbfbdb1303487d0c5a050967b0697f7\", element=\"f.0440D5CBDE4D3D8651D4AE4141E276C9.d.8EE2367EE2E76AD083F0FF3CEACDF400.e.12170\")>,\n",
       " <selenium.webdriver.remote.webelement.WebElement (session=\"5cbfbdb1303487d0c5a050967b0697f7\", element=\"f.0440D5CBDE4D3D8651D4AE4141E276C9.d.8EE2367EE2E76AD083F0FF3CEACDF400.e.12246\")>,\n",
       " <selenium.webdriver.remote.webelement.WebElement (session=\"5cbfbdb1303487d0c5a050967b0697f7\", element=\"f.0440D5CBDE4D3D8651D4AE4141E276C9.d.8EE2367EE2E76AD083F0FF3CEACDF400.e.12316\")>,\n",
       " <selenium.webdriver.remote.webelement.WebElement (session=\"5cbfbdb1303487d0c5a050967b0697f7\", element=\"f.0440D5CBDE4D3D8651D4AE4141E276C9.d.8EE2367EE2E76AD083F0FF3CEACDF400.e.12392\")>,\n",
       " <selenium.webdriver.remote.webelement.WebElement (session=\"5cbfbdb1303487d0c5a050967b0697f7\", element=\"f.0440D5CBDE4D3D8651D4AE4141E276C9.d.8EE2367EE2E76AD083F0FF3CEACDF400.e.12457\")>,\n",
       " <selenium.webdriver.remote.webelement.WebElement (session=\"5cbfbdb1303487d0c5a050967b0697f7\", element=\"f.0440D5CBDE4D3D8651D4AE4141E276C9.d.8EE2367EE2E76AD083F0FF3CEACDF400.e.12535\")>,\n",
       " <selenium.webdriver.remote.webelement.WebElement (session=\"5cbfbdb1303487d0c5a050967b0697f7\", element=\"f.0440D5CBDE4D3D8651D4AE4141E276C9.d.8EE2367EE2E76AD083F0FF3CEACDF400.e.12594\")>]"
      ]
     },
     "execution_count": 28,
     "metadata": {},
     "output_type": "execute_result"
    }
   ],
   "source": [
    "job_titles=driver.find_elements(By.XPATH,'//div[@class=\" row1\"]//a')\n",
    "job_titles"
   ]
  },
  {
   "cell_type": "code",
   "execution_count": 29,
   "id": "b15528cb",
   "metadata": {},
   "outputs": [
    {
     "data": {
      "text/plain": [
       "['Data Scientist',\n",
       " 'Senior Data Scientist/ Data Scientist',\n",
       " 'Data Scientist',\n",
       " 'Data Scientist',\n",
       " 'Data Scientist',\n",
       " '',\n",
       " '',\n",
       " '',\n",
       " 'Python Data Scientist',\n",
       " 'Associate Data Scientist']"
      ]
     },
     "execution_count": 29,
     "metadata": {},
     "output_type": "execute_result"
    }
   ],
   "source": [
    "for i in job_titles:\n",
    "    title=i.text\n",
    "    job_title.append(title)\n",
    "job_title[:10]"
   ]
  },
  {
   "cell_type": "code",
   "execution_count": 30,
   "id": "5929c284",
   "metadata": {},
   "outputs": [
    {
     "data": {
      "text/plain": [
       "[<selenium.webdriver.remote.webelement.WebElement (session=\"5cbfbdb1303487d0c5a050967b0697f7\", element=\"f.0440D5CBDE4D3D8651D4AE4141E276C9.d.8EE2367EE2E76AD083F0FF3CEACDF400.e.10872\")>,\n",
       " <selenium.webdriver.remote.webelement.WebElement (session=\"5cbfbdb1303487d0c5a050967b0697f7\", element=\"f.0440D5CBDE4D3D8651D4AE4141E276C9.d.8EE2367EE2E76AD083F0FF3CEACDF400.e.10950\")>,\n",
       " <selenium.webdriver.remote.webelement.WebElement (session=\"5cbfbdb1303487d0c5a050967b0697f7\", element=\"f.0440D5CBDE4D3D8651D4AE4141E276C9.d.8EE2367EE2E76AD083F0FF3CEACDF400.e.11029\")>,\n",
       " <selenium.webdriver.remote.webelement.WebElement (session=\"5cbfbdb1303487d0c5a050967b0697f7\", element=\"f.0440D5CBDE4D3D8651D4AE4141E276C9.d.8EE2367EE2E76AD083F0FF3CEACDF400.e.11417\")>,\n",
       " <selenium.webdriver.remote.webelement.WebElement (session=\"5cbfbdb1303487d0c5a050967b0697f7\", element=\"f.0440D5CBDE4D3D8651D4AE4141E276C9.d.8EE2367EE2E76AD083F0FF3CEACDF400.e.11493\")>,\n",
       " <selenium.webdriver.remote.webelement.WebElement (session=\"5cbfbdb1303487d0c5a050967b0697f7\", element=\"f.0440D5CBDE4D3D8651D4AE4141E276C9.d.8EE2367EE2E76AD083F0FF3CEACDF400.e.11571\")>,\n",
       " <selenium.webdriver.remote.webelement.WebElement (session=\"5cbfbdb1303487d0c5a050967b0697f7\", element=\"f.0440D5CBDE4D3D8651D4AE4141E276C9.d.8EE2367EE2E76AD083F0FF3CEACDF400.e.11636\")>,\n",
       " <selenium.webdriver.remote.webelement.WebElement (session=\"5cbfbdb1303487d0c5a050967b0697f7\", element=\"f.0440D5CBDE4D3D8651D4AE4141E276C9.d.8EE2367EE2E76AD083F0FF3CEACDF400.e.11750\")>,\n",
       " <selenium.webdriver.remote.webelement.WebElement (session=\"5cbfbdb1303487d0c5a050967b0697f7\", element=\"f.0440D5CBDE4D3D8651D4AE4141E276C9.d.8EE2367EE2E76AD083F0FF3CEACDF400.e.11820\")>,\n",
       " <selenium.webdriver.remote.webelement.WebElement (session=\"5cbfbdb1303487d0c5a050967b0697f7\", element=\"f.0440D5CBDE4D3D8651D4AE4141E276C9.d.8EE2367EE2E76AD083F0FF3CEACDF400.e.11898\")>,\n",
       " <selenium.webdriver.remote.webelement.WebElement (session=\"5cbfbdb1303487d0c5a050967b0697f7\", element=\"f.0440D5CBDE4D3D8651D4AE4141E276C9.d.8EE2367EE2E76AD083F0FF3CEACDF400.e.11976\")>,\n",
       " <selenium.webdriver.remote.webelement.WebElement (session=\"5cbfbdb1303487d0c5a050967b0697f7\", element=\"f.0440D5CBDE4D3D8651D4AE4141E276C9.d.8EE2367EE2E76AD083F0FF3CEACDF400.e.12052\")>,\n",
       " <selenium.webdriver.remote.webelement.WebElement (session=\"5cbfbdb1303487d0c5a050967b0697f7\", element=\"f.0440D5CBDE4D3D8651D4AE4141E276C9.d.8EE2367EE2E76AD083F0FF3CEACDF400.e.12124\")>,\n",
       " <selenium.webdriver.remote.webelement.WebElement (session=\"5cbfbdb1303487d0c5a050967b0697f7\", element=\"f.0440D5CBDE4D3D8651D4AE4141E276C9.d.8EE2367EE2E76AD083F0FF3CEACDF400.e.12201\")>,\n",
       " <selenium.webdriver.remote.webelement.WebElement (session=\"5cbfbdb1303487d0c5a050967b0697f7\", element=\"f.0440D5CBDE4D3D8651D4AE4141E276C9.d.8EE2367EE2E76AD083F0FF3CEACDF400.e.12271\")>,\n",
       " <selenium.webdriver.remote.webelement.WebElement (session=\"5cbfbdb1303487d0c5a050967b0697f7\", element=\"f.0440D5CBDE4D3D8651D4AE4141E276C9.d.8EE2367EE2E76AD083F0FF3CEACDF400.e.12347\")>,\n",
       " <selenium.webdriver.remote.webelement.WebElement (session=\"5cbfbdb1303487d0c5a050967b0697f7\", element=\"f.0440D5CBDE4D3D8651D4AE4141E276C9.d.8EE2367EE2E76AD083F0FF3CEACDF400.e.12412\")>,\n",
       " <selenium.webdriver.remote.webelement.WebElement (session=\"5cbfbdb1303487d0c5a050967b0697f7\", element=\"f.0440D5CBDE4D3D8651D4AE4141E276C9.d.8EE2367EE2E76AD083F0FF3CEACDF400.e.12490\")>,\n",
       " <selenium.webdriver.remote.webelement.WebElement (session=\"5cbfbdb1303487d0c5a050967b0697f7\", element=\"f.0440D5CBDE4D3D8651D4AE4141E276C9.d.8EE2367EE2E76AD083F0FF3CEACDF400.e.12555\")>,\n",
       " <selenium.webdriver.remote.webelement.WebElement (session=\"5cbfbdb1303487d0c5a050967b0697f7\", element=\"f.0440D5CBDE4D3D8651D4AE4141E276C9.d.8EE2367EE2E76AD083F0FF3CEACDF400.e.12625\")>]"
      ]
     },
     "execution_count": 30,
     "metadata": {},
     "output_type": "execute_result"
    }
   ],
   "source": [
    "location_tags=driver.find_elements(By.XPATH,'//span[@class=\"locWdth\"]')\n",
    "location_tags"
   ]
  },
  {
   "cell_type": "code",
   "execution_count": 31,
   "id": "b4d13f66",
   "metadata": {},
   "outputs": [
    {
     "data": {
      "text/plain": [
       "['Kolkata, Mumbai, New Delhi, Hyderabad, Pune, Chennai, Bengaluru',\n",
       " 'Mumbai, Pune, Chennai, Gurugram, Bengaluru',\n",
       " 'Gurugram, Bengaluru',\n",
       " 'Kolkata, Mumbai, New Delhi, Hyderabad, Pune, Chennai, Bengaluru',\n",
       " 'Kolkata, Mumbai, New Delhi, Hyderabad, Pune, Chennai, Bengaluru',\n",
       " 'Kolkata, Mumbai, New Delhi, Hyderabad, Pune, Chennai, Bengaluru',\n",
       " 'Kolkata, Mumbai, New Delhi, Hyderabad/Secunderabad, Pune, Chennai, Bangalore/Bengaluru',\n",
       " 'Kolkata, Mumbai, New Delhi, Hyderabad, Pune, Chennai, Bengaluru',\n",
       " 'Gurugram, Bengaluru',\n",
       " 'Pune, Gurugram']"
      ]
     },
     "execution_count": 31,
     "metadata": {},
     "output_type": "execute_result"
    }
   ],
   "source": [
    "for i in location_tags:\n",
    "    location=i.text\n",
    "    job_location.append(location)\n",
    "    \n",
    "job_location[:10]\n"
   ]
  },
  {
   "cell_type": "code",
   "execution_count": 32,
   "id": "f7328a5e",
   "metadata": {},
   "outputs": [
    {
     "data": {
      "text/plain": [
       "[<selenium.webdriver.remote.webelement.WebElement (session=\"5cbfbdb1303487d0c5a050967b0697f7\", element=\"f.0440D5CBDE4D3D8651D4AE4141E276C9.d.8EE2367EE2E76AD083F0FF3CEACDF400.e.10844\")>,\n",
       " <selenium.webdriver.remote.webelement.WebElement (session=\"5cbfbdb1303487d0c5a050967b0697f7\", element=\"f.0440D5CBDE4D3D8651D4AE4141E276C9.d.8EE2367EE2E76AD083F0FF3CEACDF400.e.10922\")>,\n",
       " <selenium.webdriver.remote.webelement.WebElement (session=\"5cbfbdb1303487d0c5a050967b0697f7\", element=\"f.0440D5CBDE4D3D8651D4AE4141E276C9.d.8EE2367EE2E76AD083F0FF3CEACDF400.e.11001\")>,\n",
       " <selenium.webdriver.remote.webelement.WebElement (session=\"5cbfbdb1303487d0c5a050967b0697f7\", element=\"f.0440D5CBDE4D3D8651D4AE4141E276C9.d.8EE2367EE2E76AD083F0FF3CEACDF400.e.11389\")>,\n",
       " <selenium.webdriver.remote.webelement.WebElement (session=\"5cbfbdb1303487d0c5a050967b0697f7\", element=\"f.0440D5CBDE4D3D8651D4AE4141E276C9.d.8EE2367EE2E76AD083F0FF3CEACDF400.e.11465\")>,\n",
       " <selenium.webdriver.remote.webelement.WebElement (session=\"5cbfbdb1303487d0c5a050967b0697f7\", element=\"f.0440D5CBDE4D3D8651D4AE4141E276C9.d.8EE2367EE2E76AD083F0FF3CEACDF400.e.11543\")>,\n",
       " <selenium.webdriver.remote.webelement.WebElement (session=\"5cbfbdb1303487d0c5a050967b0697f7\", element=\"f.0440D5CBDE4D3D8651D4AE4141E276C9.d.8EE2367EE2E76AD083F0FF3CEACDF400.e.11722\")>,\n",
       " <selenium.webdriver.remote.webelement.WebElement (session=\"5cbfbdb1303487d0c5a050967b0697f7\", element=\"f.0440D5CBDE4D3D8651D4AE4141E276C9.d.8EE2367EE2E76AD083F0FF3CEACDF400.e.11870\")>,\n",
       " <selenium.webdriver.remote.webelement.WebElement (session=\"5cbfbdb1303487d0c5a050967b0697f7\", element=\"f.0440D5CBDE4D3D8651D4AE4141E276C9.d.8EE2367EE2E76AD083F0FF3CEACDF400.e.11948\")>,\n",
       " <selenium.webdriver.remote.webelement.WebElement (session=\"5cbfbdb1303487d0c5a050967b0697f7\", element=\"f.0440D5CBDE4D3D8651D4AE4141E276C9.d.8EE2367EE2E76AD083F0FF3CEACDF400.e.12024\")>,\n",
       " <selenium.webdriver.remote.webelement.WebElement (session=\"5cbfbdb1303487d0c5a050967b0697f7\", element=\"f.0440D5CBDE4D3D8651D4AE4141E276C9.d.8EE2367EE2E76AD083F0FF3CEACDF400.e.12173\")>,\n",
       " <selenium.webdriver.remote.webelement.WebElement (session=\"5cbfbdb1303487d0c5a050967b0697f7\", element=\"f.0440D5CBDE4D3D8651D4AE4141E276C9.d.8EE2367EE2E76AD083F0FF3CEACDF400.e.12319\")>,\n",
       " <selenium.webdriver.remote.webelement.WebElement (session=\"5cbfbdb1303487d0c5a050967b0697f7\", element=\"f.0440D5CBDE4D3D8651D4AE4141E276C9.d.8EE2367EE2E76AD083F0FF3CEACDF400.e.12462\")>,\n",
       " <selenium.webdriver.remote.webelement.WebElement (session=\"5cbfbdb1303487d0c5a050967b0697f7\", element=\"f.0440D5CBDE4D3D8651D4AE4141E276C9.d.8EE2367EE2E76AD083F0FF3CEACDF400.e.12597\")>]"
      ]
     },
     "execution_count": 32,
     "metadata": {},
     "output_type": "execute_result"
    }
   ],
   "source": [
    "company_tags=driver.find_elements(By.XPATH,'//a[@class=\" comp-name mw-25\"]')\n",
    "company_tags"
   ]
  },
  {
   "cell_type": "code",
   "execution_count": 38,
   "id": "ebc5d5e5",
   "metadata": {},
   "outputs": [
    {
     "data": {
      "text/plain": [
       "['Scienaptic Systems',\n",
       " 'Neal Analytics',\n",
       " 'Blackbuck',\n",
       " 'Wizaltia Hr Solutions',\n",
       " 'Kmart',\n",
       " 'KAS Services',\n",
       " 'Fort Technologies',\n",
       " 'ZS Associates',\n",
       " 'Times Internet',\n",
       " 'The Scholar']"
      ]
     },
     "execution_count": 38,
     "metadata": {},
     "output_type": "execute_result"
    }
   ],
   "source": [
    "for i in company_tags:\n",
    "    company=i.text\n",
    "    company_name.append(company)\n",
    "company_name[:10]"
   ]
  },
  {
   "cell_type": "code",
   "execution_count": 34,
   "id": "d5c11fd0",
   "metadata": {},
   "outputs": [
    {
     "data": {
      "text/plain": [
       "[<selenium.webdriver.remote.webelement.WebElement (session=\"5cbfbdb1303487d0c5a050967b0697f7\", element=\"f.0440D5CBDE4D3D8651D4AE4141E276C9.d.8EE2367EE2E76AD083F0FF3CEACDF400.e.10860\")>,\n",
       " <selenium.webdriver.remote.webelement.WebElement (session=\"5cbfbdb1303487d0c5a050967b0697f7\", element=\"f.0440D5CBDE4D3D8651D4AE4141E276C9.d.8EE2367EE2E76AD083F0FF3CEACDF400.e.10938\")>,\n",
       " <selenium.webdriver.remote.webelement.WebElement (session=\"5cbfbdb1303487d0c5a050967b0697f7\", element=\"f.0440D5CBDE4D3D8651D4AE4141E276C9.d.8EE2367EE2E76AD083F0FF3CEACDF400.e.11017\")>,\n",
       " <selenium.webdriver.remote.webelement.WebElement (session=\"5cbfbdb1303487d0c5a050967b0697f7\", element=\"f.0440D5CBDE4D3D8651D4AE4141E276C9.d.8EE2367EE2E76AD083F0FF3CEACDF400.e.11405\")>,\n",
       " <selenium.webdriver.remote.webelement.WebElement (session=\"5cbfbdb1303487d0c5a050967b0697f7\", element=\"f.0440D5CBDE4D3D8651D4AE4141E276C9.d.8EE2367EE2E76AD083F0FF3CEACDF400.e.11481\")>,\n",
       " <selenium.webdriver.remote.webelement.WebElement (session=\"5cbfbdb1303487d0c5a050967b0697f7\", element=\"f.0440D5CBDE4D3D8651D4AE4141E276C9.d.8EE2367EE2E76AD083F0FF3CEACDF400.e.11559\")>,\n",
       " <selenium.webdriver.remote.webelement.WebElement (session=\"5cbfbdb1303487d0c5a050967b0697f7\", element=\"f.0440D5CBDE4D3D8651D4AE4141E276C9.d.8EE2367EE2E76AD083F0FF3CEACDF400.e.11624\")>,\n",
       " <selenium.webdriver.remote.webelement.WebElement (session=\"5cbfbdb1303487d0c5a050967b0697f7\", element=\"f.0440D5CBDE4D3D8651D4AE4141E276C9.d.8EE2367EE2E76AD083F0FF3CEACDF400.e.11738\")>,\n",
       " <selenium.webdriver.remote.webelement.WebElement (session=\"5cbfbdb1303487d0c5a050967b0697f7\", element=\"f.0440D5CBDE4D3D8651D4AE4141E276C9.d.8EE2367EE2E76AD083F0FF3CEACDF400.e.11808\")>,\n",
       " <selenium.webdriver.remote.webelement.WebElement (session=\"5cbfbdb1303487d0c5a050967b0697f7\", element=\"f.0440D5CBDE4D3D8651D4AE4141E276C9.d.8EE2367EE2E76AD083F0FF3CEACDF400.e.11886\")>,\n",
       " <selenium.webdriver.remote.webelement.WebElement (session=\"5cbfbdb1303487d0c5a050967b0697f7\", element=\"f.0440D5CBDE4D3D8651D4AE4141E276C9.d.8EE2367EE2E76AD083F0FF3CEACDF400.e.11964\")>,\n",
       " <selenium.webdriver.remote.webelement.WebElement (session=\"5cbfbdb1303487d0c5a050967b0697f7\", element=\"f.0440D5CBDE4D3D8651D4AE4141E276C9.d.8EE2367EE2E76AD083F0FF3CEACDF400.e.12040\")>,\n",
       " <selenium.webdriver.remote.webelement.WebElement (session=\"5cbfbdb1303487d0c5a050967b0697f7\", element=\"f.0440D5CBDE4D3D8651D4AE4141E276C9.d.8EE2367EE2E76AD083F0FF3CEACDF400.e.12112\")>,\n",
       " <selenium.webdriver.remote.webelement.WebElement (session=\"5cbfbdb1303487d0c5a050967b0697f7\", element=\"f.0440D5CBDE4D3D8651D4AE4141E276C9.d.8EE2367EE2E76AD083F0FF3CEACDF400.e.12189\")>,\n",
       " <selenium.webdriver.remote.webelement.WebElement (session=\"5cbfbdb1303487d0c5a050967b0697f7\", element=\"f.0440D5CBDE4D3D8651D4AE4141E276C9.d.8EE2367EE2E76AD083F0FF3CEACDF400.e.12259\")>,\n",
       " <selenium.webdriver.remote.webelement.WebElement (session=\"5cbfbdb1303487d0c5a050967b0697f7\", element=\"f.0440D5CBDE4D3D8651D4AE4141E276C9.d.8EE2367EE2E76AD083F0FF3CEACDF400.e.12335\")>,\n",
       " <selenium.webdriver.remote.webelement.WebElement (session=\"5cbfbdb1303487d0c5a050967b0697f7\", element=\"f.0440D5CBDE4D3D8651D4AE4141E276C9.d.8EE2367EE2E76AD083F0FF3CEACDF400.e.12400\")>,\n",
       " <selenium.webdriver.remote.webelement.WebElement (session=\"5cbfbdb1303487d0c5a050967b0697f7\", element=\"f.0440D5CBDE4D3D8651D4AE4141E276C9.d.8EE2367EE2E76AD083F0FF3CEACDF400.e.12478\")>,\n",
       " <selenium.webdriver.remote.webelement.WebElement (session=\"5cbfbdb1303487d0c5a050967b0697f7\", element=\"f.0440D5CBDE4D3D8651D4AE4141E276C9.d.8EE2367EE2E76AD083F0FF3CEACDF400.e.12543\")>,\n",
       " <selenium.webdriver.remote.webelement.WebElement (session=\"5cbfbdb1303487d0c5a050967b0697f7\", element=\"f.0440D5CBDE4D3D8651D4AE4141E276C9.d.8EE2367EE2E76AD083F0FF3CEACDF400.e.12613\")>]"
      ]
     },
     "execution_count": 34,
     "metadata": {},
     "output_type": "execute_result"
    }
   ],
   "source": [
    "experience_tags=driver.find_elements(By.XPATH,'//span[@class=\"expwdth\"]')\n",
    "experience_tags"
   ]
  },
  {
   "cell_type": "code",
   "execution_count": 35,
   "id": "7f45d5c7",
   "metadata": {},
   "outputs": [
    {
     "data": {
      "text/plain": [
       "['2-7 Yrs',\n",
       " '3-7 Yrs',\n",
       " '3-7 Yrs',\n",
       " '2-7 Yrs',\n",
       " '1-2 Yrs',\n",
       " '1-2 Yrs',\n",
       " '3-7 Yrs',\n",
       " '1-3 Yrs',\n",
       " '2-7 Yrs',\n",
       " '2-4 Yrs']"
      ]
     },
     "execution_count": 35,
     "metadata": {},
     "output_type": "execute_result"
    }
   ],
   "source": [
    "for i in experience_tags:\n",
    "    experience=i.text\n",
    "    experience_required.append(experience)\n",
    "experience_required[:10]"
   ]
  },
  {
   "cell_type": "code",
   "execution_count": 36,
   "id": "1cfaabb0",
   "metadata": {},
   "outputs": [],
   "source": [
    "#creating dataframe \n",
    "jobs=pd.DataFrame({})\n",
    "jobs[\"title\"]=job_title[:10]\n",
    "jobs[\"location\"]=job_location[:10]\n",
    "jobs[\"company\"]=company_name[:10]\n",
    "jobs[\"experience\"]=experience_required[:10]"
   ]
  },
  {
   "cell_type": "code",
   "execution_count": 37,
   "id": "6b171ed0",
   "metadata": {},
   "outputs": [
    {
     "data": {
      "text/html": [
       "<div>\n",
       "<style scoped>\n",
       "    .dataframe tbody tr th:only-of-type {\n",
       "        vertical-align: middle;\n",
       "    }\n",
       "\n",
       "    .dataframe tbody tr th {\n",
       "        vertical-align: top;\n",
       "    }\n",
       "\n",
       "    .dataframe thead th {\n",
       "        text-align: right;\n",
       "    }\n",
       "</style>\n",
       "<table border=\"1\" class=\"dataframe\">\n",
       "  <thead>\n",
       "    <tr style=\"text-align: right;\">\n",
       "      <th></th>\n",
       "      <th>title</th>\n",
       "      <th>location</th>\n",
       "      <th>company</th>\n",
       "      <th>experience</th>\n",
       "    </tr>\n",
       "  </thead>\n",
       "  <tbody>\n",
       "    <tr>\n",
       "      <th>0</th>\n",
       "      <td>Data Scientist</td>\n",
       "      <td>Kolkata, Mumbai, New Delhi, Hyderabad, Pune, C...</td>\n",
       "      <td>Scienaptic Systems</td>\n",
       "      <td>2-7 Yrs</td>\n",
       "    </tr>\n",
       "    <tr>\n",
       "      <th>1</th>\n",
       "      <td>Senior Data Scientist/ Data Scientist</td>\n",
       "      <td>Mumbai, Pune, Chennai, Gurugram, Bengaluru</td>\n",
       "      <td>Neal Analytics</td>\n",
       "      <td>3-7 Yrs</td>\n",
       "    </tr>\n",
       "    <tr>\n",
       "      <th>2</th>\n",
       "      <td>Data Scientist</td>\n",
       "      <td>Gurugram, Bengaluru</td>\n",
       "      <td>Blackbuck</td>\n",
       "      <td>3-7 Yrs</td>\n",
       "    </tr>\n",
       "    <tr>\n",
       "      <th>3</th>\n",
       "      <td>Data Scientist</td>\n",
       "      <td>Kolkata, Mumbai, New Delhi, Hyderabad, Pune, C...</td>\n",
       "      <td>Wizaltia Hr Solutions</td>\n",
       "      <td>2-7 Yrs</td>\n",
       "    </tr>\n",
       "    <tr>\n",
       "      <th>4</th>\n",
       "      <td>Data Scientist</td>\n",
       "      <td>Kolkata, Mumbai, New Delhi, Hyderabad, Pune, C...</td>\n",
       "      <td>Kmart</td>\n",
       "      <td>1-2 Yrs</td>\n",
       "    </tr>\n",
       "    <tr>\n",
       "      <th>5</th>\n",
       "      <td></td>\n",
       "      <td>Kolkata, Mumbai, New Delhi, Hyderabad, Pune, C...</td>\n",
       "      <td>KAS Services</td>\n",
       "      <td>1-2 Yrs</td>\n",
       "    </tr>\n",
       "    <tr>\n",
       "      <th>6</th>\n",
       "      <td></td>\n",
       "      <td>Kolkata, Mumbai, New Delhi, Hyderabad/Secunder...</td>\n",
       "      <td>Fort Technologies</td>\n",
       "      <td>3-7 Yrs</td>\n",
       "    </tr>\n",
       "    <tr>\n",
       "      <th>7</th>\n",
       "      <td></td>\n",
       "      <td>Kolkata, Mumbai, New Delhi, Hyderabad, Pune, C...</td>\n",
       "      <td>ZS Associates</td>\n",
       "      <td>1-3 Yrs</td>\n",
       "    </tr>\n",
       "    <tr>\n",
       "      <th>8</th>\n",
       "      <td>Python Data Scientist</td>\n",
       "      <td>Gurugram, Bengaluru</td>\n",
       "      <td>Times Internet</td>\n",
       "      <td>2-7 Yrs</td>\n",
       "    </tr>\n",
       "    <tr>\n",
       "      <th>9</th>\n",
       "      <td>Associate Data Scientist</td>\n",
       "      <td>Pune, Gurugram</td>\n",
       "      <td>The Scholar</td>\n",
       "      <td>2-4 Yrs</td>\n",
       "    </tr>\n",
       "  </tbody>\n",
       "</table>\n",
       "</div>"
      ],
      "text/plain": [
       "                                   title  \\\n",
       "0                         Data Scientist   \n",
       "1  Senior Data Scientist/ Data Scientist   \n",
       "2                         Data Scientist   \n",
       "3                         Data Scientist   \n",
       "4                         Data Scientist   \n",
       "5                                          \n",
       "6                                          \n",
       "7                                          \n",
       "8                  Python Data Scientist   \n",
       "9               Associate Data Scientist   \n",
       "\n",
       "                                            location                company  \\\n",
       "0  Kolkata, Mumbai, New Delhi, Hyderabad, Pune, C...     Scienaptic Systems   \n",
       "1         Mumbai, Pune, Chennai, Gurugram, Bengaluru         Neal Analytics   \n",
       "2                                Gurugram, Bengaluru              Blackbuck   \n",
       "3  Kolkata, Mumbai, New Delhi, Hyderabad, Pune, C...  Wizaltia Hr Solutions   \n",
       "4  Kolkata, Mumbai, New Delhi, Hyderabad, Pune, C...                  Kmart   \n",
       "5  Kolkata, Mumbai, New Delhi, Hyderabad, Pune, C...           KAS Services   \n",
       "6  Kolkata, Mumbai, New Delhi, Hyderabad/Secunder...      Fort Technologies   \n",
       "7  Kolkata, Mumbai, New Delhi, Hyderabad, Pune, C...          ZS Associates   \n",
       "8                                Gurugram, Bengaluru         Times Internet   \n",
       "9                                     Pune, Gurugram            The Scholar   \n",
       "\n",
       "  experience  \n",
       "0    2-7 Yrs  \n",
       "1    3-7 Yrs  \n",
       "2    3-7 Yrs  \n",
       "3    2-7 Yrs  \n",
       "4    1-2 Yrs  \n",
       "5    1-2 Yrs  \n",
       "6    3-7 Yrs  \n",
       "7    1-3 Yrs  \n",
       "8    2-7 Yrs  \n",
       "9    2-4 Yrs  "
      ]
     },
     "execution_count": 37,
     "metadata": {},
     "output_type": "execute_result"
    }
   ],
   "source": [
    "jobs"
   ]
  },
  {
   "cell_type": "code",
   "execution_count": 1,
   "id": "0c4a665a",
   "metadata": {},
   "outputs": [],
   "source": [
    "#5\n",
    "import selenium\n",
    "import pandas as pd\n",
    "from selenium import webdriver\n",
    "import warnings\n",
    "warnings.filterwarnings('ignore')\n",
    "from selenium.webdriver.common.by import By\n",
    "import time\n"
   ]
  },
  {
   "cell_type": "code",
   "execution_count": 2,
   "id": "d9f83786",
   "metadata": {},
   "outputs": [],
   "source": [
    "driver=webdriver.Chrome()"
   ]
  },
  {
   "cell_type": "code",
   "execution_count": 3,
   "id": "2d7b2bdd",
   "metadata": {},
   "outputs": [],
   "source": [
    "#defining url\n",
    "driver.get('https://www.amazon.in/')"
   ]
  },
  {
   "cell_type": "code",
   "execution_count": 4,
   "id": "80d53e8b",
   "metadata": {},
   "outputs": [
    {
     "data": {
      "text/plain": [
       "<selenium.webdriver.remote.webelement.WebElement (session=\"53f4516c40f11506eed267006c0fdcb4\", element=\"f.1DE0BA4566A02D1F5CDDBAAE1E31BAC9.d.B64F9B01C0E06F6585B2C48D056F5A65.e.28\")>"
      ]
     },
     "execution_count": 4,
     "metadata": {},
     "output_type": "execute_result"
    }
   ],
   "source": [
    "search_title=driver.find_element(By.XPATH,'//*[@id=\"twotabsearchtextbox\"]  ')\n",
    "search_title.send_keys('Laptop')\n",
    "search_title"
   ]
  },
  {
   "cell_type": "code",
   "execution_count": 5,
   "id": "4d9c304a",
   "metadata": {},
   "outputs": [],
   "source": [
    "search_btn=driver.find_element(By.XPATH,'//*[@id=\"nav-search-submit-button\"]')\n",
    "search_btn.click()"
   ]
  },
  {
   "cell_type": "code",
   "execution_count": 6,
   "id": "2463ec2c",
   "metadata": {},
   "outputs": [],
   "source": [
    "Title=[]\n",
    "Ratings=[]\n",
    "Price=[]"
   ]
  },
  {
   "cell_type": "code",
   "execution_count": 7,
   "id": "74d616c4",
   "metadata": {},
   "outputs": [],
   "source": [
    "cpu_type_filter=driver.find_element(By.XPATH,'//*[@id=\"p_n_feature_thirteen_browse-bin/12598163031\"]/span/a/span')\n",
    "\n",
    "cpu_type_filter.click()"
   ]
  },
  {
   "cell_type": "code",
   "execution_count": 22,
   "id": "216c852e",
   "metadata": {},
   "outputs": [],
   "source": [
    "laptops_data = []"
   ]
  },
  {
   "cell_type": "code",
   "execution_count": 28,
   "id": "e2919a34",
   "metadata": {},
   "outputs": [],
   "source": [
    "#scraping the data for first 10 laptop\n",
    "for laptop in laptops_data:\n",
    "    title = laptop.find_element(By.XPATH,'//h2[@class=\"a-size-mini a-spacing-none a-color-base s-line-clamp-2\"]').text\n",
    "    try:\n",
    "        rating = laptop.find_element(By.XPATH,'//I[@class=\"a-icon a-icon-star-small a-star-small-4 aok-align-bottom\"]').text\n",
    "    except:\n",
    "        rating = \"Not available\"\n",
    "    price = laptop.find_element(By.XPATH,'//span[@class=\"a-price\"]').text                                 \n",
    "                                     "
   ]
  },
  {
   "cell_type": "code",
   "execution_count": 38,
   "id": "55f56b5a",
   "metadata": {},
   "outputs": [
    {
     "ename": "SyntaxError",
     "evalue": "'break' outside loop (3046198239.py, line 2)",
     "output_type": "error",
     "traceback": [
      "\u001b[1;36m  Cell \u001b[1;32mIn[38], line 2\u001b[1;36m\u001b[0m\n\u001b[1;33m    if len(laptops_data) >= 10:break\u001b[0m\n\u001b[1;37m                               ^\u001b[0m\n\u001b[1;31mSyntaxError\u001b[0m\u001b[1;31m:\u001b[0m 'break' outside loop\n"
     ]
    }
   ],
   "source": [
    "laptops_data.append({\"Title\": title, \"Rating\": rating, \"Price\": price})\n",
    "if len(laptops_data) >= 10:\n",
    "    break\n"
   ]
  },
  {
   "cell_type": "code",
   "execution_count": 39,
   "id": "8c9ba313",
   "metadata": {},
   "outputs": [
    {
     "name": "stdout",
     "output_type": "stream",
     "text": [
      "{'Title': <selenium.webdriver.remote.webelement.WebElement (session=\"53f4516c40f11506eed267006c0fdcb4\", element=\"f.1DE0BA4566A02D1F5CDDBAAE1E31BAC9.d.DD28943A7A3BD34CD8BFD057AE4E6F02.e.24938\")>, 'Rating': <selenium.webdriver.remote.webelement.WebElement (session=\"53f4516c40f11506eed267006c0fdcb4\", element=\"f.1DE0BA4566A02D1F5CDDBAAE1E31BAC9.d.DD28943A7A3BD34CD8BFD057AE4E6F02.e.25250\")>, 'Price': <selenium.webdriver.remote.webelement.WebElement (session=\"53f4516c40f11506eed267006c0fdcb4\", element=\"f.1DE0BA4566A02D1F5CDDBAAE1E31BAC9.d.DD28943A7A3BD34CD8BFD057AE4E6F02.e.27078\")>}\n",
      "{'Title': <selenium.webdriver.remote.webelement.WebElement (session=\"53f4516c40f11506eed267006c0fdcb4\", element=\"f.1DE0BA4566A02D1F5CDDBAAE1E31BAC9.d.DD28943A7A3BD34CD8BFD057AE4E6F02.e.24938\")>, 'Rating': <selenium.webdriver.remote.webelement.WebElement (session=\"53f4516c40f11506eed267006c0fdcb4\", element=\"f.1DE0BA4566A02D1F5CDDBAAE1E31BAC9.d.DD28943A7A3BD34CD8BFD057AE4E6F02.e.25250\")>, 'Price': <selenium.webdriver.remote.webelement.WebElement (session=\"53f4516c40f11506eed267006c0fdcb4\", element=\"f.1DE0BA4566A02D1F5CDDBAAE1E31BAC9.d.DD28943A7A3BD34CD8BFD057AE4E6F02.e.27078\")>}\n",
      "{'Title': <selenium.webdriver.remote.webelement.WebElement (session=\"53f4516c40f11506eed267006c0fdcb4\", element=\"f.1DE0BA4566A02D1F5CDDBAAE1E31BAC9.d.DD28943A7A3BD34CD8BFD057AE4E6F02.e.24938\")>, 'Rating': <selenium.webdriver.remote.webelement.WebElement (session=\"53f4516c40f11506eed267006c0fdcb4\", element=\"f.1DE0BA4566A02D1F5CDDBAAE1E31BAC9.d.DD28943A7A3BD34CD8BFD057AE4E6F02.e.25250\")>, 'Price': <selenium.webdriver.remote.webelement.WebElement (session=\"53f4516c40f11506eed267006c0fdcb4\", element=\"f.1DE0BA4566A02D1F5CDDBAAE1E31BAC9.d.DD28943A7A3BD34CD8BFD057AE4E6F02.e.27078\")>}\n",
      "{'Title': <selenium.webdriver.remote.webelement.WebElement (session=\"53f4516c40f11506eed267006c0fdcb4\", element=\"f.1DE0BA4566A02D1F5CDDBAAE1E31BAC9.d.DD28943A7A3BD34CD8BFD057AE4E6F02.e.24938\")>, 'Rating': <selenium.webdriver.remote.webelement.WebElement (session=\"53f4516c40f11506eed267006c0fdcb4\", element=\"f.1DE0BA4566A02D1F5CDDBAAE1E31BAC9.d.DD28943A7A3BD34CD8BFD057AE4E6F02.e.25250\")>, 'Price': <selenium.webdriver.remote.webelement.WebElement (session=\"53f4516c40f11506eed267006c0fdcb4\", element=\"f.1DE0BA4566A02D1F5CDDBAAE1E31BAC9.d.DD28943A7A3BD34CD8BFD057AE4E6F02.e.27078\")>}\n",
      "{'Title': <selenium.webdriver.remote.webelement.WebElement (session=\"53f4516c40f11506eed267006c0fdcb4\", element=\"f.1DE0BA4566A02D1F5CDDBAAE1E31BAC9.d.DD28943A7A3BD34CD8BFD057AE4E6F02.e.24938\")>, 'Rating': <selenium.webdriver.remote.webelement.WebElement (session=\"53f4516c40f11506eed267006c0fdcb4\", element=\"f.1DE0BA4566A02D1F5CDDBAAE1E31BAC9.d.DD28943A7A3BD34CD8BFD057AE4E6F02.e.25250\")>, 'Price': <selenium.webdriver.remote.webelement.WebElement (session=\"53f4516c40f11506eed267006c0fdcb4\", element=\"f.1DE0BA4566A02D1F5CDDBAAE1E31BAC9.d.DD28943A7A3BD34CD8BFD057AE4E6F02.e.27078\")>}\n",
      "{'Title': <selenium.webdriver.remote.webelement.WebElement (session=\"53f4516c40f11506eed267006c0fdcb4\", element=\"f.1DE0BA4566A02D1F5CDDBAAE1E31BAC9.d.DD28943A7A3BD34CD8BFD057AE4E6F02.e.24938\")>, 'Rating': <selenium.webdriver.remote.webelement.WebElement (session=\"53f4516c40f11506eed267006c0fdcb4\", element=\"f.1DE0BA4566A02D1F5CDDBAAE1E31BAC9.d.DD28943A7A3BD34CD8BFD057AE4E6F02.e.25250\")>, 'Price': <selenium.webdriver.remote.webelement.WebElement (session=\"53f4516c40f11506eed267006c0fdcb4\", element=\"f.1DE0BA4566A02D1F5CDDBAAE1E31BAC9.d.DD28943A7A3BD34CD8BFD057AE4E6F02.e.27078\")>}\n",
      "{'Title': <selenium.webdriver.remote.webelement.WebElement (session=\"53f4516c40f11506eed267006c0fdcb4\", element=\"f.1DE0BA4566A02D1F5CDDBAAE1E31BAC9.d.DD28943A7A3BD34CD8BFD057AE4E6F02.e.24938\")>, 'Rating': <selenium.webdriver.remote.webelement.WebElement (session=\"53f4516c40f11506eed267006c0fdcb4\", element=\"f.1DE0BA4566A02D1F5CDDBAAE1E31BAC9.d.DD28943A7A3BD34CD8BFD057AE4E6F02.e.25250\")>, 'Price': <selenium.webdriver.remote.webelement.WebElement (session=\"53f4516c40f11506eed267006c0fdcb4\", element=\"f.1DE0BA4566A02D1F5CDDBAAE1E31BAC9.d.DD28943A7A3BD34CD8BFD057AE4E6F02.e.27078\")>}\n"
     ]
    }
   ],
   "source": [
    "for laptop in laptops_data:\n",
    "    print(laptop)\n"
   ]
  },
  {
   "cell_type": "code",
   "execution_count": 77,
   "id": "cf193f06",
   "metadata": {},
   "outputs": [],
   "source": [
    "#6\n",
    "import selenium\n",
    "import pandas as pd\n",
    "from selenium import webdriver\n",
    "import warnings\n",
    "warnings.filterwarnings('ignore')\n",
    "from selenium.webdriver.common.by import By\n",
    "import time\n",
    "from selenium.webdriver.support.ui import WebDriverWait\n",
    "from selenium.webdriver.support import expected_conditions as EC\n"
   ]
  },
  {
   "cell_type": "code",
   "execution_count": 78,
   "id": "8953395e",
   "metadata": {},
   "outputs": [],
   "source": [
    "url=(\"https://www.azquotes.com/\")"
   ]
  },
  {
   "cell_type": "code",
   "execution_count": 80,
   "id": "01948c03",
   "metadata": {},
   "outputs": [],
   "source": [
    "\n"
   ]
  },
  {
   "cell_type": "code",
   "execution_count": 82,
   "id": "9aadf097",
   "metadata": {},
   "outputs": [],
   "source": [
    "driver=webdriver.Chrome()"
   ]
  },
  {
   "cell_type": "code",
   "execution_count": null,
   "id": "ab013b1f",
   "metadata": {},
   "outputs": [],
   "source": []
  },
  {
   "cell_type": "code",
   "execution_count": 83,
   "id": "30a2885c",
   "metadata": {},
   "outputs": [],
   "source": [
    "driver.get(url)"
   ]
  },
  {
   "cell_type": "code",
   "execution_count": 84,
   "id": "91e29903",
   "metadata": {},
   "outputs": [],
   "source": [
    "Quote_Data=[]"
   ]
  },
  {
   "cell_type": "code",
   "execution_count": 85,
   "id": "2cfed594",
   "metadata": {},
   "outputs": [],
   "source": [
    "quotes = driver.find_elements(By.XPATH,'//*[@id=\"content\"]/div/div[1]/div/ul')"
   ]
  },
  {
   "cell_type": "code",
   "execution_count": 86,
   "id": "29f11bee",
   "metadata": {},
   "outputs": [],
   "source": [
    " for quote in quotes:\n",
    "        quote_text = quote.find_element(By.XPATH,'//a[@class=\"title\"]').text"
   ]
  },
  {
   "cell_type": "code",
   "execution_count": 87,
   "id": "2ba03779",
   "metadata": {},
   "outputs": [],
   "source": [
    "author = quote.find_element(By.CLASS_NAME,'author').text\n"
   ]
  },
  {
   "cell_type": "code",
   "execution_count": 90,
   "id": "3c7d6834",
   "metadata": {},
   "outputs": [],
   "source": [
    "quote_type=quote.find_element(By.CLASS_NAME,'tags').text"
   ]
  },
  {
   "cell_type": "code",
   "execution_count": null,
   "id": "6a6f0044",
   "metadata": {},
   "outputs": [],
   "source": []
  },
  {
   "cell_type": "code",
   "execution_count": 91,
   "id": "a8f9def4",
   "metadata": {},
   "outputs": [
    {
     "name": "stdout",
     "output_type": "stream",
     "text": [
      "Quote: The essence of strategy is choosing what not to do.\n",
      "Author: Michael Porter\n",
      "TypeofQuote: Essence, Deep Thought, Transcendentalism\n",
      "\n",
      "\n"
     ]
    }
   ],
   "source": [
    "print(\"Quote:\", quote_text)\n",
    "print(\"Author:\", author)\n",
    "print(\"TypeofQuote:\", quote_type)\n",
    "print(\"\\n\")"
   ]
  },
  {
   "cell_type": "code",
   "execution_count": 92,
   "id": "10689623",
   "metadata": {},
   "outputs": [],
   "source": [
    "#8\n",
    "import selenium\n",
    "import pandas as pd\n",
    "from selenium import webdriver\n",
    "from selenium.webdriver.common.by import By\n",
    "import time\n",
    "from selenium.webdriver.support.ui import WebDriverWait\n",
    "from selenium.webdriver.support import expected_conditions as EC"
   ]
  },
  {
   "cell_type": "code",
   "execution_count": 101,
   "id": "ae657438",
   "metadata": {},
   "outputs": [],
   "source": [
    "url=\"https://www.jagranjosh.com/general-knowledge/list-of-all-prime-ministers-of-india-1473165149-1\""
   ]
  },
  {
   "cell_type": "code",
   "execution_count": 102,
   "id": "6d3ae9ab",
   "metadata": {},
   "outputs": [],
   "source": [
    "driver=webdriver.Chrome()"
   ]
  },
  {
   "cell_type": "code",
   "execution_count": 103,
   "id": "f70e9fd5",
   "metadata": {},
   "outputs": [],
   "source": [
    "driver.get(url)"
   ]
  },
  {
   "cell_type": "code",
   "execution_count": 123,
   "id": "f89d5323",
   "metadata": {},
   "outputs": [],
   "source": [
    "name=[]\n",
    "born_dead=[]\n",
    "term_of_office=[]\n",
    "remarks=[]"
   ]
  },
  {
   "cell_type": "code",
   "execution_count": 105,
   "id": "d27d653e",
   "metadata": {},
   "outputs": [
    {
     "data": {
      "text/plain": [
       "<selenium.webdriver.remote.webelement.WebElement (session=\"4cee17ee394a7f246b861988ce1559c0\", element=\"f.30B918F8EF1928E36A66CC1EDE3F0BFC.d.CFF1FB55FE2A1EE1506C7637DCE8589B.e.14\")>"
      ]
     },
     "execution_count": 105,
     "metadata": {},
     "output_type": "execute_result"
    }
   ],
   "source": [
    "wait=WebDriverWait(driver,10)\n",
    "wait.until(EC.presence_of_element_located((By.CLASS_NAME,'TableData')))"
   ]
  },
  {
   "cell_type": "code",
   "execution_count": 120,
   "id": "9f0dfebe",
   "metadata": {},
   "outputs": [],
   "source": [
    "table=driver.find_element(By.CLASS_NAME,'TableData')\n",
    "rows=table.find_elements(By.TAG_NAME,'tr')"
   ]
  },
  {
   "cell_type": "code",
   "execution_count": 126,
   "id": "907bfaa8",
   "metadata": {},
   "outputs": [],
   "source": [
    "data=[]\n",
    "for row in rows[1:]:\n",
    "    columns = row.find_elements(By.TAG_NAME,'td')\n",
    "    name = columns[0].text\n",
    "    born_dead = columns[1].text\n",
    "    term_of_office = columns[2].text\n",
    "    remarks = columns[3].text\n",
    "    data.append([name, born_dead, term_of_office, remarks])\n",
    "\n"
   ]
  },
  {
   "cell_type": "code",
   "execution_count": 127,
   "id": "cda116c7",
   "metadata": {},
   "outputs": [],
   "source": [
    "df = pd.DataFrame(data, columns=['Name', 'Born-Dead', 'Term of Office', 'Remarks'])"
   ]
  },
  {
   "cell_type": "code",
   "execution_count": 128,
   "id": "a64ba4cd",
   "metadata": {},
   "outputs": [
    {
     "data": {
      "text/html": [
       "<div>\n",
       "<style scoped>\n",
       "    .dataframe tbody tr th:only-of-type {\n",
       "        vertical-align: middle;\n",
       "    }\n",
       "\n",
       "    .dataframe tbody tr th {\n",
       "        vertical-align: top;\n",
       "    }\n",
       "\n",
       "    .dataframe thead th {\n",
       "        text-align: right;\n",
       "    }\n",
       "</style>\n",
       "<table border=\"1\" class=\"dataframe\">\n",
       "  <thead>\n",
       "    <tr style=\"text-align: right;\">\n",
       "      <th></th>\n",
       "      <th>Name</th>\n",
       "      <th>Born-Dead</th>\n",
       "      <th>Term of Office</th>\n",
       "      <th>Remarks</th>\n",
       "    </tr>\n",
       "  </thead>\n",
       "  <tbody>\n",
       "    <tr>\n",
       "      <th>0</th>\n",
       "      <td>1.</td>\n",
       "      <td>Jawahar Lal Nehru</td>\n",
       "      <td>(1889–1964)</td>\n",
       "      <td>15 August 1947 to 27 May 1964\\n16 years, 286 days</td>\n",
       "    </tr>\n",
       "    <tr>\n",
       "      <th>1</th>\n",
       "      <td>2.</td>\n",
       "      <td>Gulzarilal Nanda (Acting)</td>\n",
       "      <td>(1898-1998)</td>\n",
       "      <td>27 May 1964 to 9 June 1964,\\n13 days</td>\n",
       "    </tr>\n",
       "    <tr>\n",
       "      <th>2</th>\n",
       "      <td>3.</td>\n",
       "      <td>Lal Bahadur Shastri</td>\n",
       "      <td>(1904–1966)</td>\n",
       "      <td>9 June 1964 to 11 January 1966\\n1 year, 216 days</td>\n",
       "    </tr>\n",
       "    <tr>\n",
       "      <th>3</th>\n",
       "      <td>4.</td>\n",
       "      <td>Gulzari Lal Nanda  (Acting)</td>\n",
       "      <td>(1898-1998)</td>\n",
       "      <td>11 January 1966 to 24 January 1966\\n13 days</td>\n",
       "    </tr>\n",
       "    <tr>\n",
       "      <th>4</th>\n",
       "      <td>5.</td>\n",
       "      <td>Indira Gandhi</td>\n",
       "      <td>(1917–1984)</td>\n",
       "      <td>24 January 1966 to 24 March 1977\\n11 years, 59...</td>\n",
       "    </tr>\n",
       "    <tr>\n",
       "      <th>5</th>\n",
       "      <td>6.</td>\n",
       "      <td>Morarji Desai</td>\n",
       "      <td>(1896–1995)</td>\n",
       "      <td>24 March 1977 to  28 July 1979 \\n2 year, 126 days</td>\n",
       "    </tr>\n",
       "    <tr>\n",
       "      <th>6</th>\n",
       "      <td>7.</td>\n",
       "      <td>Charan Singh</td>\n",
       "      <td>(1902–1987)</td>\n",
       "      <td>28 July 1979 to 14 January 1980\\n170 days</td>\n",
       "    </tr>\n",
       "    <tr>\n",
       "      <th>7</th>\n",
       "      <td>8.</td>\n",
       "      <td>Indira Gandhi</td>\n",
       "      <td>(1917–1984)</td>\n",
       "      <td>14 January 1980 to 31 October 1984\\n4 years, 2...</td>\n",
       "    </tr>\n",
       "    <tr>\n",
       "      <th>8</th>\n",
       "      <td>9.</td>\n",
       "      <td>Rajiv Gandhi</td>\n",
       "      <td>(1944–1991)</td>\n",
       "      <td>31 October 1984 to 2 December 1989\\n5 years, 3...</td>\n",
       "    </tr>\n",
       "    <tr>\n",
       "      <th>9</th>\n",
       "      <td>10.</td>\n",
       "      <td>V. P. Singh</td>\n",
       "      <td>(1931–2008)</td>\n",
       "      <td>2 December 1989 to 10 November 1990\\n343 days</td>\n",
       "    </tr>\n",
       "    <tr>\n",
       "      <th>10</th>\n",
       "      <td>11.</td>\n",
       "      <td>Chandra Shekhar</td>\n",
       "      <td>(1927–2007)</td>\n",
       "      <td>10 November 1990 to 21 June 1991\\n223 days</td>\n",
       "    </tr>\n",
       "    <tr>\n",
       "      <th>11</th>\n",
       "      <td>12.</td>\n",
       "      <td>P. V. Narasimha Rao</td>\n",
       "      <td>(1921–2004)</td>\n",
       "      <td>21 June 1991 to 16 May 1996\\n4 years, 330 days</td>\n",
       "    </tr>\n",
       "    <tr>\n",
       "      <th>12</th>\n",
       "      <td>13.</td>\n",
       "      <td>Atal Bihari Vajpayee</td>\n",
       "      <td>(1924- 2018)</td>\n",
       "      <td>16 May 1996 to 1 June 1996\\n16 days</td>\n",
       "    </tr>\n",
       "    <tr>\n",
       "      <th>13</th>\n",
       "      <td>14.</td>\n",
       "      <td>H. D. Deve Gowda</td>\n",
       "      <td>(born 1933)</td>\n",
       "      <td>1 June 1996 to 21 April 1997\\n324 days</td>\n",
       "    </tr>\n",
       "    <tr>\n",
       "      <th>14</th>\n",
       "      <td>15.</td>\n",
       "      <td>Inder Kumar Gujral</td>\n",
       "      <td>(1919–2012)</td>\n",
       "      <td>21 April 1997 to 19 March 1998 \\n332 days</td>\n",
       "    </tr>\n",
       "    <tr>\n",
       "      <th>15</th>\n",
       "      <td>16.</td>\n",
       "      <td>Atal Bihari Vajpayee</td>\n",
       "      <td>(1924-2018)</td>\n",
       "      <td>19 March 1998 to 22 May 2004 \\n6 years, 64 days</td>\n",
       "    </tr>\n",
       "    <tr>\n",
       "      <th>16</th>\n",
       "      <td>17.</td>\n",
       "      <td>Manmohan Singh</td>\n",
       "      <td>(born 1932)</td>\n",
       "      <td>22 May 2004 to 26 May 2014   \\n10 years, 4 days</td>\n",
       "    </tr>\n",
       "    <tr>\n",
       "      <th>17</th>\n",
       "      <td>18.</td>\n",
       "      <td>Narendra Modi</td>\n",
       "      <td>(born 1950)</td>\n",
       "      <td>26 May 2014 - 2019</td>\n",
       "    </tr>\n",
       "    <tr>\n",
       "      <th>18</th>\n",
       "      <td>19.</td>\n",
       "      <td>Narendra Modi</td>\n",
       "      <td>(born 1950)</td>\n",
       "      <td>30 May 2019- Incumbent</td>\n",
       "    </tr>\n",
       "  </tbody>\n",
       "</table>\n",
       "</div>"
      ],
      "text/plain": [
       "   Name                    Born-Dead Term of Office  \\\n",
       "0    1.            Jawahar Lal Nehru    (1889–1964)   \n",
       "1    2.    Gulzarilal Nanda (Acting)    (1898-1998)   \n",
       "2    3.          Lal Bahadur Shastri    (1904–1966)   \n",
       "3   4.   Gulzari Lal Nanda  (Acting)    (1898-1998)   \n",
       "4    5.                Indira Gandhi    (1917–1984)   \n",
       "5    6.                Morarji Desai    (1896–1995)   \n",
       "6    7.                 Charan Singh    (1902–1987)   \n",
       "7    8.                Indira Gandhi    (1917–1984)   \n",
       "8    9.                 Rajiv Gandhi    (1944–1991)   \n",
       "9   10.                  V. P. Singh    (1931–2008)   \n",
       "10  11.              Chandra Shekhar    (1927–2007)   \n",
       "11  12.          P. V. Narasimha Rao    (1921–2004)   \n",
       "12  13.         Atal Bihari Vajpayee   (1924- 2018)   \n",
       "13  14.             H. D. Deve Gowda    (born 1933)   \n",
       "14  15.           Inder Kumar Gujral    (1919–2012)   \n",
       "15  16.         Atal Bihari Vajpayee    (1924-2018)   \n",
       "16  17.               Manmohan Singh    (born 1932)   \n",
       "17  18.                Narendra Modi    (born 1950)   \n",
       "18  19.                Narendra Modi    (born 1950)   \n",
       "\n",
       "                                              Remarks  \n",
       "0   15 August 1947 to 27 May 1964\\n16 years, 286 days  \n",
       "1                27 May 1964 to 9 June 1964,\\n13 days  \n",
       "2    9 June 1964 to 11 January 1966\\n1 year, 216 days  \n",
       "3         11 January 1966 to 24 January 1966\\n13 days  \n",
       "4   24 January 1966 to 24 March 1977\\n11 years, 59...  \n",
       "5   24 March 1977 to  28 July 1979 \\n2 year, 126 days  \n",
       "6           28 July 1979 to 14 January 1980\\n170 days  \n",
       "7   14 January 1980 to 31 October 1984\\n4 years, 2...  \n",
       "8   31 October 1984 to 2 December 1989\\n5 years, 3...  \n",
       "9       2 December 1989 to 10 November 1990\\n343 days  \n",
       "10         10 November 1990 to 21 June 1991\\n223 days  \n",
       "11     21 June 1991 to 16 May 1996\\n4 years, 330 days  \n",
       "12                16 May 1996 to 1 June 1996\\n16 days  \n",
       "13             1 June 1996 to 21 April 1997\\n324 days  \n",
       "14          21 April 1997 to 19 March 1998 \\n332 days  \n",
       "15    19 March 1998 to 22 May 2004 \\n6 years, 64 days  \n",
       "16    22 May 2004 to 26 May 2014   \\n10 years, 4 days  \n",
       "17                                 26 May 2014 - 2019  \n",
       "18                             30 May 2019- Incumbent  "
      ]
     },
     "execution_count": 128,
     "metadata": {},
     "output_type": "execute_result"
    }
   ],
   "source": [
    "df"
   ]
  },
  {
   "cell_type": "code",
   "execution_count": null,
   "id": "0b2817b9",
   "metadata": {},
   "outputs": [],
   "source": [
    "#7\n",
    "import selenium\n",
    "import pandas as pd\n",
    "from selenium import webdriver\n",
    "from selenium.webdriver.common.by import By\n",
    "import time\n",
    "from selenium.webdriver.support.ui import WebDriverWait\n",
    "from selenium.webdriver.support import expected_conditions as EC\n"
   ]
  },
  {
   "cell_type": "code",
   "execution_count": null,
   "id": "3bcaf58e",
   "metadata": {},
   "outputs": [],
   "source": []
  }
 ],
 "metadata": {
  "kernelspec": {
   "display_name": "Python 3 (ipykernel)",
   "language": "python",
   "name": "python3"
  },
  "language_info": {
   "codemirror_mode": {
    "name": "ipython",
    "version": 3
   },
   "file_extension": ".py",
   "mimetype": "text/x-python",
   "name": "python",
   "nbconvert_exporter": "python",
   "pygments_lexer": "ipython3",
   "version": "3.10.9"
  }
 },
 "nbformat": 4,
 "nbformat_minor": 5
}
