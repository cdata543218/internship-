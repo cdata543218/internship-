{
 "cells": [
  {
   "cell_type": "code",
   "execution_count": 1,
   "id": "25303103",
   "metadata": {},
   "outputs": [
    {
     "name": "stdout",
     "output_type": "stream",
     "text": [
      "Python:Exercises:PHP:ecercises:\n"
     ]
    }
   ],
   "source": [
    "#sol1)\n",
    "\n",
    "import re\n",
    "\n",
    "def replace_spaces_commas_dots(text):\n",
    "    return re.sub(r'[\\s,.]+', ':', text)\n",
    "\n",
    "sample_text = 'Python Exercises, PHP ecercises.'\n",
    "output = replace_spaces_commas_dots(sample_text)\n",
    "print(output)"
   ]
  },
  {
   "cell_type": "code",
   "execution_count": 2,
   "id": "75e81650",
   "metadata": {},
   "outputs": [
    {
     "name": "stdout",
     "output_type": "stream",
     "text": [
      "            SUMMARY\n",
      "0       hello world\n",
      "1        XXXXX test\n",
      "2  123four five six\n"
     ]
    }
   ],
   "source": [
    "#sol2)\n",
    "\n",
    "import pandas as pd\n",
    "import re \n",
    "\n",
    "data = {'SUMMARY' : ['hello, world!', 'XXXXX test', '123four, five:; six...']}\n",
    "\n",
    "df = pd.DataFrame(data)\n",
    "\n",
    "df['SUMMARY'] = df['SUMMARY'].apply(lambda x: re.sub(r'[^\\w\\s]', '', x))\n",
    "\n",
    "print(df)"
   ]
  },
  {
   "cell_type": "code",
   "execution_count": 3,
   "id": "eb20abc5",
   "metadata": {},
   "outputs": [
    {
     "name": "stdout",
     "output_type": "stream",
     "text": [
      "['This', 'sample', 'text', 'with', 'some', 'long', 'words', 'like', 'programming', 'mathematics', 'engineering']\n"
     ]
    }
   ],
   "source": [
    "#sol3)\n",
    "\n",
    "import re\n",
    "\n",
    "def find_long_words(text):\n",
    "    pattern = re.compile(r'\\b\\w{4,}\\b')\n",
    "    words = pattern.findall(text)\n",
    "    return words\n",
    "\n",
    "text = \"This is a sample text with some long words like programming, mathematics, and engineering.\"\n",
    "print(find_long_words(text))"
   ]
  },
  {
   "cell_type": "code",
   "execution_count": 4,
   "id": "50b27477",
   "metadata": {},
   "outputs": [
    {
     "name": "stdout",
     "output_type": "stream",
     "text": [
      "['This', 'text', 'with', 'some', 'three', 'words', 'like', 'cat', 'dog', 'and', 'bat', 'and', 'some', 'four', 'words', 'like', 'test', 'and', 'five', 'words', 'like']\n"
     ]
    }
   ],
   "source": [
    "#sol4)\n",
    "\n",
    "import re\n",
    "\n",
    "def find_words(text):\n",
    "    pattern = re.compile(r'\\b\\w{3,5}\\b')\n",
    "    words = pattern.findall(text)\n",
    "    return words\n",
    "\n",
    "text = \"This is a sample text with some three-letter words like cat, dog, and bat, and some four-letter words like test, and five-letter words like program.\"\n",
    "print(find_words(text))"
   ]
  },
  {
   "cell_type": "code",
   "execution_count": 5,
   "id": "478e3b92",
   "metadata": {},
   "outputs": [
    {
     "name": "stdout",
     "output_type": "stream",
     "text": [
      "['example ', 'hr@fliprobo ', 'github ', 'Hello ', 'Data ']\n"
     ]
    }
   ],
   "source": [
    "#sol5)\n",
    "\n",
    "import re\n",
    "\n",
    "def remove_parentheses_and_dots(strings):\n",
    "    pattern = re.compile(r'\\(.*?\\)|\\.$')\n",
    "    cleaned_strings = [pattern.sub('', s) for s in strings]\n",
    "    return cleaned_strings\n",
    "\n",
    "strings = [\"example (.com)\", \"hr@fliprobo (.com)\", \"github (.com)\", \"Hello (Data Science World)\", \"Data (Scientist)\"]\n",
    "print(remove_parentheses_and_dots(strings))"
   ]
  },
  {
   "cell_type": "code",
   "execution_count": 41,
   "id": "81c8ffa9",
   "metadata": {},
   "outputs": [
    {
     "ename": "FileNotFoundError",
     "evalue": "[Errno 2] No such file or directory: 'sample.txt'",
     "output_type": "error",
     "traceback": [
      "\u001b[1;31m---------------------------------------------------------------------------\u001b[0m",
      "\u001b[1;31mFileNotFoundError\u001b[0m                         Traceback (most recent call last)",
      "Cell \u001b[1;32mIn[41], line 22\u001b[0m\n\u001b[0;32m     19\u001b[0m \u001b[38;5;28;01mwith\u001b[39;00m \u001b[38;5;28mopen\u001b[39m(\u001b[38;5;124m'\u001b[39m\u001b[38;5;124msample1.txt\u001b[39m\u001b[38;5;124m'\u001b[39m, \u001b[38;5;124m'\u001b[39m\u001b[38;5;124mw\u001b[39m\u001b[38;5;124m'\u001b[39m) \u001b[38;5;28;01mas\u001b[39;00m f:\n\u001b[0;32m     20\u001b[0m     f\u001b[38;5;241m.\u001b[39mwrite(\u001b[38;5;124m'\u001b[39m\u001b[38;5;124m[\u001b[39m\u001b[38;5;124m\"\u001b[39m\u001b[38;5;124mexample (.com)\u001b[39m\u001b[38;5;124m\"\u001b[39m\u001b[38;5;124m, \u001b[39m\u001b[38;5;124m\"\u001b[39m\u001b[38;5;124mhr@fliprobo (.com)\u001b[39m\u001b[38;5;124m\"\u001b[39m\u001b[38;5;124m, \u001b[39m\u001b[38;5;124m\"\u001b[39m\u001b[38;5;124mgithub (.com)\u001b[39m\u001b[38;5;124m\"\u001b[39m\u001b[38;5;124m, \u001b[39m\u001b[38;5;124m\"\u001b[39m\u001b[38;5;124mHello (Data Science World)\u001b[39m\u001b[38;5;124m\"\u001b[39m\u001b[38;5;124m, \u001b[39m\u001b[38;5;124m\"\u001b[39m\u001b[38;5;124mData (Scientist)\u001b[39m\u001b[38;5;124m\"\u001b[39m\u001b[38;5;124m]\u001b[39m\u001b[38;5;124m'\u001b[39m)\n\u001b[1;32m---> 22\u001b[0m remove_parentheses_from_file(\u001b[38;5;124m'\u001b[39m\u001b[38;5;124msample.txt\u001b[39m\u001b[38;5;124m'\u001b[39m)\n\u001b[0;32m     24\u001b[0m \u001b[38;5;28;01mwith\u001b[39;00m \u001b[38;5;28mopen\u001b[39m(\u001b[38;5;124m'\u001b[39m\u001b[38;5;124msample1.txt\u001b[39m\u001b[38;5;124m'\u001b[39m, \u001b[38;5;124m'\u001b[39m\u001b[38;5;124mr\u001b[39m\u001b[38;5;124m'\u001b[39m) \u001b[38;5;28;01mas\u001b[39;00m f:\n\u001b[0;32m     25\u001b[0m     text \u001b[38;5;241m=\u001b[39m f\u001b[38;5;241m.\u001b[39mread()\n",
      "Cell \u001b[1;32mIn[41], line 13\u001b[0m, in \u001b[0;36mremove_parentheses_from_file\u001b[1;34m(file_path)\u001b[0m\n\u001b[0;32m     11\u001b[0m \u001b[38;5;28;01mdef\u001b[39;00m \u001b[38;5;21mremove_parentheses_from_file\u001b[39m(file_path):\n\u001b[1;32m---> 13\u001b[0m     \u001b[38;5;28;01mwith\u001b[39;00m \u001b[38;5;28mopen\u001b[39m(file_path, \u001b[38;5;124m'\u001b[39m\u001b[38;5;124mr\u001b[39m\u001b[38;5;124m'\u001b[39m) \u001b[38;5;28;01mas\u001b[39;00m f:\n\u001b[0;32m     14\u001b[0m         text \u001b[38;5;241m=\u001b[39m f\u001b[38;5;241m.\u001b[39mread()\n\u001b[0;32m     15\u001b[0m     text \u001b[38;5;241m=\u001b[39m remove_parentheses(text)\n",
      "File \u001b[1;32m~\\anaconda3\\anaconda\\Lib\\site-packages\\IPython\\core\\interactiveshell.py:284\u001b[0m, in \u001b[0;36m_modified_open\u001b[1;34m(file, *args, **kwargs)\u001b[0m\n\u001b[0;32m    277\u001b[0m \u001b[38;5;28;01mif\u001b[39;00m file \u001b[38;5;129;01min\u001b[39;00m {\u001b[38;5;241m0\u001b[39m, \u001b[38;5;241m1\u001b[39m, \u001b[38;5;241m2\u001b[39m}:\n\u001b[0;32m    278\u001b[0m     \u001b[38;5;28;01mraise\u001b[39;00m \u001b[38;5;167;01mValueError\u001b[39;00m(\n\u001b[0;32m    279\u001b[0m         \u001b[38;5;124mf\u001b[39m\u001b[38;5;124m\"\u001b[39m\u001b[38;5;124mIPython won\u001b[39m\u001b[38;5;124m'\u001b[39m\u001b[38;5;124mt let you open fd=\u001b[39m\u001b[38;5;132;01m{\u001b[39;00mfile\u001b[38;5;132;01m}\u001b[39;00m\u001b[38;5;124m by default \u001b[39m\u001b[38;5;124m\"\u001b[39m\n\u001b[0;32m    280\u001b[0m         \u001b[38;5;124m\"\u001b[39m\u001b[38;5;124mas it is likely to crash IPython. If you know what you are doing, \u001b[39m\u001b[38;5;124m\"\u001b[39m\n\u001b[0;32m    281\u001b[0m         \u001b[38;5;124m\"\u001b[39m\u001b[38;5;124myou can use builtins\u001b[39m\u001b[38;5;124m'\u001b[39m\u001b[38;5;124m open.\u001b[39m\u001b[38;5;124m\"\u001b[39m\n\u001b[0;32m    282\u001b[0m     )\n\u001b[1;32m--> 284\u001b[0m \u001b[38;5;28;01mreturn\u001b[39;00m io_open(file, \u001b[38;5;241m*\u001b[39margs, \u001b[38;5;241m*\u001b[39m\u001b[38;5;241m*\u001b[39mkwargs)\n",
      "\u001b[1;31mFileNotFoundError\u001b[0m: [Errno 2] No such file or directory: 'sample.txt'"
     ]
    }
   ],
   "source": [
    "#sol6)\n",
    "\n",
    "import re\n",
    "\n",
    "def remove_parentheses(text):\n",
    "   \n",
    "    parentheses_pattern = re.compile(r'\\(.*?\\)')\n",
    "    text = parentheses_pattern.sub('', text)\n",
    "    return text\n",
    "\n",
    "def remove_parentheses_from_file(file_path):\n",
    "   \n",
    "    with open(file_path, 'r') as f:\n",
    "        text = f.read()\n",
    "    text = remove_parentheses(text)\n",
    "    with open(file_path, 'w') as f:\n",
    "        f.write(text)\n",
    "\n",
    "with open('sample1.txt', 'w') as f:\n",
    "    f.write('[\"example (.com)\", \"hr@fliprobo (.com)\", \"github (.com)\", \"Hello (Data Science World)\", \"Data (Scientist)\"]')\n",
    "\n",
    "remove_parentheses_from_file('sample.txt')\n",
    "\n",
    "with open('sample1.txt', 'r') as f:\n",
    "    text = f.read()\n",
    "print(text)"
   ]
  },
  {
   "cell_type": "code",
   "execution_count": 38,
   "id": "4bfc5e96",
   "metadata": {},
   "outputs": [
    {
     "name": "stdout",
     "output_type": "stream",
     "text": [
      "['Importance', 'Of', 'Regular', 'Expressions', 'In', 'Python']\n"
     ]
    }
   ],
   "source": [
    "#sol7)\n",
    "\n",
    "import re\n",
    "\n",
    "text = \"ImportanceOfRegularExpressionsInPython\"\n",
    "pattern = r'(?<=[A-Z])(?=[A-Z][a-z])|(?<=[^A-Z])(?=[A-Z])|(?<=[a-z])(?=[A-Z][a-z])'\n",
    "result = re.split(pattern, text)\n",
    "\n",
    "print(result)"
   ]
  },
  {
   "cell_type": "code",
   "execution_count": 10,
   "id": "36ea9b2e",
   "metadata": {},
   "outputs": [
    {
     "name": "stdout",
     "output_type": "stream",
     "text": [
      "RegularExpression 1 IsAn 2 ImportantTopic 3 InPython\n"
     ]
    }
   ],
   "source": [
    "#sol8)\n",
    "\n",
    "import re\n",
    "\n",
    "def insert_spaces(text):\n",
    "    pattern = r'(?<=\\D)(?=[0-9])|(?<=[0-9])(?=\\D)'\n",
    "    return re.sub(pattern, ' ', text)\n",
    "\n",
    "sample_text = \"RegularExpression1IsAn2ImportantTopic3InPython\"\n",
    "result = insert_spaces(sample_text)\n",
    "print(result)"
   ]
  },
  {
   "cell_type": "code",
   "execution_count": 11,
   "id": "0d90798b",
   "metadata": {},
   "outputs": [
    {
     "name": "stdout",
     "output_type": "stream",
     "text": [
      "\n"
     ]
    }
   ],
   "source": [
    "#sol9)\n",
    "\n",
    "import re\n",
    "\n",
    "def insert_spaces(text: str) -> str:\n",
    "   \n",
    "    words = re.findall(r'\\b[A-Z0-9][a-z0-9]*\\b', text)\n",
    "    return ' '.join(words)\n",
    "\n",
    "text = \"RegularExpression1IsAn2ImportantTopic3InPython\"\n",
    "print(insert_spaces(text))  "
   ]
  },
  {
   "cell_type": "code",
   "execution_count": 12,
   "id": "5b302b8d",
   "metadata": {},
   "outputs": [
    {
     "name": "stdout",
     "output_type": "stream",
     "text": [
      "       Country          Region  Happiness Rank  Happiness Score  \\\n",
      "0  Switzerland  Western Europe               1            7.587   \n",
      "1      Iceland  Western Europe               2            7.561   \n",
      "2      Denmark  Western Europe               3            7.527   \n",
      "3       Norway  Western Europe               4            7.522   \n",
      "4       Canada   North America               5            7.427   \n",
      "\n",
      "   Standard Error  Economy (GDP per Capita)   Family  \\\n",
      "0         0.03411                   1.39651  1.34951   \n",
      "1         0.04884                   1.30232  1.40223   \n",
      "2         0.03328                   1.32548  1.36058   \n",
      "3         0.03880                   1.45900  1.33095   \n",
      "4         0.03553                   1.32629  1.32261   \n",
      "\n",
      "   Health (Life Expectancy)  Freedom  Trust (Government Corruption)  \\\n",
      "0                   0.94143  0.66557                        0.41978   \n",
      "1                   0.94784  0.62877                        0.14145   \n",
      "2                   0.87464  0.64938                        0.48357   \n",
      "3                   0.88521  0.66973                        0.36503   \n",
      "4                   0.90563  0.63297                        0.32957   \n",
      "\n",
      "   Generosity  Dystopia Residual first_five_letters  \n",
      "0     0.29678            2.51738             Switze  \n",
      "1     0.43630            2.70201             Icelan  \n",
      "2     0.34139            2.49204             Denmar  \n",
      "3     0.34699            2.46531             Norway  \n",
      "4     0.45811            2.45176             Canada  \n"
     ]
    }
   ],
   "source": [
    " # sol 10) \n",
    "import pandas as pd\n",
    "url = \"https://raw.githubusercontent.com/dsrscientist/DSData/master/happiness_score_dataset.csv\"\n",
    "df = pd.read_csv(url)\n",
    "df['first_five_letters'] = df['Country'].str[:6]\n",
    "print(df.head())"
   ]
  },
  {
   "cell_type": "code",
   "execution_count": 13,
   "id": "2ab14c5c",
   "metadata": {},
   "outputs": [
    {
     "name": "stdout",
     "output_type": "stream",
     "text": [
      "Hello_World123 matches the pattern.\n"
     ]
    }
   ],
   "source": [
    "#sol11) \n",
    "\n",
    "import re\n",
    "\n",
    "pattern = r'^[a-zA-Z0-9_]*$'\n",
    "input_string = \"Hello_World123\"\n",
    "if re.match(pattern, input_string):\n",
    "    print(f\"{input_string} matches the pattern.\")\n",
    "else:\n",
    "    print(f\"{input_string} does not match the pattern.\")"
   ]
  },
  {
   "cell_type": "code",
   "execution_count": 14,
   "id": "d614307a",
   "metadata": {},
   "outputs": [
    {
     "name": "stdout",
     "output_type": "stream",
     "text": [
      "1234567890 does not match the pattern.\n"
     ]
    }
   ],
   "source": [
    "# sol12)\n",
    "\n",
    "import re\n",
    "\n",
    "pattern = r'^1\\d{10}$'\n",
    "\n",
    "input_string = \"1234567890\"\n",
    "\n",
    "if re.match(pattern, input_string):\n",
    "    print(f\"{input_string} matches the pattern.\")\n",
    "else:\n",
    "    print(f\"{input_string} does not match the pattern.\")"
   ]
  },
  {
   "cell_type": "code",
   "execution_count": 15,
   "id": "745c2eaa",
   "metadata": {},
   "outputs": [
    {
     "name": "stdout",
     "output_type": "stream",
     "text": [
      "192.168.001.002\n"
     ]
    }
   ],
   "source": [
    "#sol13)\n",
    "\n",
    "import re\n",
    "\n",
    "ip_address = \"192.168.001.002\"\n",
    "\n",
    "ip_address = re.sub(r'(\\d+)(\\.0+)', r'\\1\\2', ip_address)\n",
    "\n",
    "print(ip_address)"
   ]
  },
  {
   "cell_type": "code",
   "execution_count": 40,
   "id": "6f2b1894",
   "metadata": {},
   "outputs": [
    {
     "ename": "FileNotFoundError",
     "evalue": "[Errno 2] No such file or directory: 'sample.txt'",
     "output_type": "error",
     "traceback": [
      "\u001b[1;31m---------------------------------------------------------------------------\u001b[0m",
      "\u001b[1;31mFileNotFoundError\u001b[0m                         Traceback (most recent call last)",
      "Cell \u001b[1;32mIn[40], line 4\u001b[0m\n\u001b[0;32m      1\u001b[0m \u001b[38;5;66;03m#sol14)\u001b[39;00m\n\u001b[0;32m      2\u001b[0m \u001b[38;5;28;01mimport\u001b[39;00m \u001b[38;5;21;01mre\u001b[39;00m\n\u001b[1;32m----> 4\u001b[0m \u001b[38;5;28;01mwith\u001b[39;00m \u001b[38;5;28mopen\u001b[39m(\u001b[38;5;124m\"\u001b[39m\u001b[38;5;124msample.txt\u001b[39m\u001b[38;5;124m\"\u001b[39m, \u001b[38;5;124m\"\u001b[39m\u001b[38;5;124mr\u001b[39m\u001b[38;5;124m\"\u001b[39m) \u001b[38;5;28;01mas\u001b[39;00m file:\n\u001b[0;32m      5\u001b[0m     text \u001b[38;5;241m=\u001b[39m file\u001b[38;5;241m.\u001b[39mread()\n\u001b[0;32m      7\u001b[0m pattern \u001b[38;5;241m=\u001b[39m \u001b[38;5;124mr\u001b[39m\u001b[38;5;124m'\u001b[39m\u001b[38;5;124m\\\u001b[39m\u001b[38;5;124mb(January|February|March|April|May|June|July|August|September|October|November|December)\u001b[39m\u001b[38;5;124m\\\u001b[39m\u001b[38;5;124ms+\u001b[39m\u001b[38;5;124m\\\u001b[39m\u001b[38;5;124md\u001b[39m\u001b[38;5;124m{\u001b[39m\u001b[38;5;124m1,2}(st|nd|rd|th)\u001b[39m\u001b[38;5;124m\\\u001b[39m\u001b[38;5;124ms+\u001b[39m\u001b[38;5;124m\\\u001b[39m\u001b[38;5;124md\u001b[39m\u001b[38;5;132;01m{4}\u001b[39;00m\u001b[38;5;124m\\\u001b[39m\u001b[38;5;124mb\u001b[39m\u001b[38;5;124m'\u001b[39m\n",
      "File \u001b[1;32m~\\anaconda3\\anaconda\\Lib\\site-packages\\IPython\\core\\interactiveshell.py:284\u001b[0m, in \u001b[0;36m_modified_open\u001b[1;34m(file, *args, **kwargs)\u001b[0m\n\u001b[0;32m    277\u001b[0m \u001b[38;5;28;01mif\u001b[39;00m file \u001b[38;5;129;01min\u001b[39;00m {\u001b[38;5;241m0\u001b[39m, \u001b[38;5;241m1\u001b[39m, \u001b[38;5;241m2\u001b[39m}:\n\u001b[0;32m    278\u001b[0m     \u001b[38;5;28;01mraise\u001b[39;00m \u001b[38;5;167;01mValueError\u001b[39;00m(\n\u001b[0;32m    279\u001b[0m         \u001b[38;5;124mf\u001b[39m\u001b[38;5;124m\"\u001b[39m\u001b[38;5;124mIPython won\u001b[39m\u001b[38;5;124m'\u001b[39m\u001b[38;5;124mt let you open fd=\u001b[39m\u001b[38;5;132;01m{\u001b[39;00mfile\u001b[38;5;132;01m}\u001b[39;00m\u001b[38;5;124m by default \u001b[39m\u001b[38;5;124m\"\u001b[39m\n\u001b[0;32m    280\u001b[0m         \u001b[38;5;124m\"\u001b[39m\u001b[38;5;124mas it is likely to crash IPython. If you know what you are doing, \u001b[39m\u001b[38;5;124m\"\u001b[39m\n\u001b[0;32m    281\u001b[0m         \u001b[38;5;124m\"\u001b[39m\u001b[38;5;124myou can use builtins\u001b[39m\u001b[38;5;124m'\u001b[39m\u001b[38;5;124m open.\u001b[39m\u001b[38;5;124m\"\u001b[39m\n\u001b[0;32m    282\u001b[0m     )\n\u001b[1;32m--> 284\u001b[0m \u001b[38;5;28;01mreturn\u001b[39;00m io_open(file, \u001b[38;5;241m*\u001b[39margs, \u001b[38;5;241m*\u001b[39m\u001b[38;5;241m*\u001b[39mkwargs)\n",
      "\u001b[1;31mFileNotFoundError\u001b[0m: [Errno 2] No such file or directory: 'sample.txt'"
     ]
    }
   ],
   "source": [
    "#sol14)\n",
    "import re\n",
    "\n",
    "with open(\"sample.txt\", \"r\") as file:\n",
    "    text = file.read()\n",
    "\n",
    "pattern = r'\\b(January|February|March|April|May|June|July|August|September|October|November|December)\\s+\\d{1,2}(st|nd|rd|th)\\s+\\d{4}\\b'\n",
    "\n",
    "match = re.search(pattern, text)\n",
    "\n",
    "if match:\n",
    "    date_string = match.group()\n",
    "    print(date_string)\n",
    "else:\n",
    "    print(\"Error: No match found.\")"
   ]
  },
  {
   "cell_type": "code",
   "execution_count": 18,
   "id": "47c755be",
   "metadata": {},
   "outputs": [
    {
     "name": "stdout",
     "output_type": "stream",
     "text": [
      "fox is in the sample text.\n",
      "dog is in the sample text.\n",
      "horse is not in the sample text.\n"
     ]
    }
   ],
   "source": [
    "#sol15)\n",
    "\n",
    "sample_text = \"The quick brown fox jumps over the lazy dog.\"\n",
    "searched_words = [\"fox\", \"dog\", \"horse\"]\n",
    "\n",
    "for word in searched_words:\n",
    "    if word in sample_text:\n",
    "        print(f\"{word} is in the sample text.\")\n",
    "    else:\n",
    "        print(f\"{word} is not in the sample text.\")"
   ]
  },
  {
   "cell_type": "code",
   "execution_count": 19,
   "id": "63ea899a",
   "metadata": {},
   "outputs": [
    {
     "name": "stdout",
     "output_type": "stream",
     "text": [
      "fox is located at position 16 in the sample text.\n"
     ]
    }
   ],
   "source": [
    "#sol16)\n",
    "\n",
    "sample_text = \"The quick brown fox jumps over the lazy dog.\"\n",
    "searched_word = \"fox\"\n",
    "\n",
    "location = sample_text.find(searched_word)\n",
    "\n",
    "if location != -1:\n",
    "    print(f\"{searched_word} is located at position {location} in the sample text.\")\n",
    "else:\n",
    "    print(f\"{searched_word} is not found in the sample text.\")"
   ]
  },
  {
   "cell_type": "code",
   "execution_count": 20,
   "id": "26209212",
   "metadata": {},
   "outputs": [
    {
     "name": "stdout",
     "output_type": "stream",
     "text": [
      "Substring 1: Python exercises\n",
      "Substring 2: , PHP exercises\n",
      "Substring 3: , C# exercises\n"
     ]
    }
   ],
   "source": [
    "#sol17)\n",
    "\n",
    "sample_text = \"Python exercises, PHP exercises, C# exercises\"\n",
    "pattern = \"exercises\"\n",
    "\n",
    "substrings = sample_text.split(pattern)\n",
    "\n",
    "for i, substring in enumerate(substrings):\n",
    "    \n",
    "    if substring:\n",
    "        print(f\"Substring {i+1}: {substring}{pattern}\")"
   ]
  },
  {
   "cell_type": "code",
   "execution_count": 21,
   "id": "580dff98",
   "metadata": {},
   "outputs": [
    {
     "name": "stdout",
     "output_type": "stream",
     "text": [
      "The pattern 'exercises' occurs 3 time(s) in the sample text.\n",
      "Positions:  1, 2, 3\n"
     ]
    }
   ],
   "source": [
    "#sol18)\n",
    "\n",
    "sample_text = \"Python exercises, PHP exercises, C# exercises\"\n",
    "pattern = \"exercises\"\n",
    "\n",
    "occurrences = []\n",
    "positions = []\n",
    "position = 0\n",
    "while True:\n",
    "    position = sample_text.find(pattern, position)\n",
    "    if position == -1:\n",
    "        break\n",
    "    occurrences.append(position)\n",
    "    positions.append(len(occurrences))\n",
    "    position += len(pattern)\n",
    "\n",
    "if occurrences:\n",
    "    print(f\"The pattern '{pattern}' occurs {len(occurrences)} time(s) in the sample text.\")\n",
    "    print(\"Positions: \", \", \".join(map(str, positions)))\n",
    "else:\n",
    "    print(f\"The pattern '{pattern}' is not found in the sample text.\")"
   ]
  },
  {
   "cell_type": "code",
   "execution_count": 22,
   "id": "6a6d64d2",
   "metadata": {},
   "outputs": [
    {
     "name": "stdout",
     "output_type": "stream",
     "text": [
      "09-01-2001\n"
     ]
    }
   ],
   "source": [
    "#sol19)\n",
    "\n",
    "date_str =  \"2001-01-09\"\n",
    "\n",
    "year, month, day = date_str.split(\"-\")\n",
    "\n",
    "new_date_str = \"-\".join([day, month, year])\n",
    "\n",
    "print(new_date_str)"
   ]
  },
  {
   "cell_type": "code",
   "execution_count": 23,
   "id": "ce8a56bc",
   "metadata": {},
   "outputs": [
    {
     "name": "stdout",
     "output_type": "stream",
     "text": [
      "['01.12', '0132.12', '2.31', '145.8', '3.01', '27.25', '0.25']\n"
     ]
    }
   ],
   "source": [
    "#sol 20)\n",
    "\n",
    "import re\n",
    "\n",
    "sample_text = \"01.12 0132.123 2.31875 145.8 3.01 27.25 0.25\"\n",
    "\n",
    "pattern = r\"\\d+\\.\\d{1,2}\"\n",
    "\n",
    "regex = re.compile(pattern)\n",
    "\n",
    "matches = regex.findall(sample_text)\n",
    "\n",
    "print(matches)"
   ]
  },
  {
   "cell_type": "code",
   "execution_count": 42,
   "id": "96f844fc",
   "metadata": {},
   "outputs": [
    {
     "ename": "IndentationError",
     "evalue": "expected an indented block after 'if' statement on line 7 (576480021.py, line 9)",
     "output_type": "error",
     "traceback": [
      "\u001b[1;36m  Cell \u001b[1;32mIn[42], line 9\u001b[1;36m\u001b[0m\n\u001b[1;33m    print(f\"Number {char} found at position {i}\")\u001b[0m\n\u001b[1;37m    ^\u001b[0m\n\u001b[1;31mIndentationError\u001b[0m\u001b[1;31m:\u001b[0m expected an indented block after 'if' statement on line 7\n"
     ]
    }
   ],
   "source": [
    "#sol21)\n",
    "\n",
    "def find_numbers_and_positions(input_string):\n",
    "   \n",
    "    for i, char in enumerate(input_string):\n",
    "        \n",
    "        if char.isdigit():\n",
    "            \n",
    "    print(f\"Number {char} found at position {i}\")\n",
    "\n",
    "input_string = \"HARREET123BOO45\"\n",
    "find_numbers_and_positions(input_string)"
   ]
  },
  {
   "cell_type": "code",
   "execution_count": 26,
   "id": "11a61c49",
   "metadata": {},
   "outputs": [
    {
     "name": "stdout",
     "output_type": "stream",
     "text": [
      "950\n"
     ]
    }
   ],
   "source": [
    "#SOL22)\n",
    "\n",
    "import re\n",
    "\n",
    "def extract_max_numeric_value(input_string):\n",
    "   \n",
    "    pattern = r'\\b\\d+\\b'\n",
    "    \n",
    "    numeric_values = re.findall(pattern, input_string)\n",
    "\n",
    "    numeric_values = [int(numeric_value) for numeric_value in numeric_values]\n",
    "    \n",
    "    return max(numeric_values)\n",
    "\n",
    "\n",
    "input_string = \"My marks in each semester are: 947, 896, 926, 524, 734, 950, 642\"\n",
    "print(extract_max_numeric_value(input_string))"
   ]
  },
  {
   "cell_type": "code",
   "execution_count": 27,
   "id": "777ad294",
   "metadata": {},
   "outputs": [
    {
     "name": "stdout",
     "output_type": "stream",
     "text": [
      "Regular Expression Is An Important Topic In Python\n"
     ]
    }
   ],
   "source": [
    "#SOL23)\n",
    "\n",
    "def insert_spaces_between_caps(input_string):\n",
    "\n",
    "    pattern = r'(?<=[A-Z])(?=[A-Z][a-z])|(?<=[^A-Z])(?=[A-Z])'\n",
    "\n",
    "    words = re.split(pattern, input_string)\n",
    "\n",
    "    output_string = ' '.join(words)\n",
    "    return output_string\n",
    "\n",
    "input_string = \"RegularExpressionIsAnImportantTopicInPython\"\n",
    "print(insert_spaces_between_caps(input_string)) "
   ]
  },
  {
   "cell_type": "code",
   "execution_count": 28,
   "id": "ade0b448",
   "metadata": {},
   "outputs": [
    {
     "name": "stdout",
     "output_type": "stream",
     "text": [
      "['This', 'Is', 'An', 'Example', 'String', 'With', 'Sequences', 'Of', 'One', 'Uppercase', 'Letter', 'Followed', 'By', 'Lowercase', 'Letters']\n"
     ]
    }
   ],
   "source": [
    "#SOL24)\n",
    "\n",
    "import re\n",
    "\n",
    "input_string = \"ThisIsAnExampleStringWithSequencesOfOneUppercaseLetterFollowedByLowercaseLetters\"\n",
    "pattern = r'[A-Z][a-z]*'\n",
    "\n",
    "matches = re.findall(pattern, input_string)\n",
    "print(matches)"
   ]
  },
  {
   "cell_type": "code",
   "execution_count": 29,
   "id": "e83a6c17",
   "metadata": {},
   "outputs": [
    {
     "name": "stdout",
     "output_type": "stream",
     "text": [
      "Hello world\n"
     ]
    }
   ],
   "source": [
    "#SOL25)\n",
    "\n",
    "import re\n",
    "\n",
    "def remove_continuous_duplicate_words(input_string):\n",
    "\n",
    "    pattern = r'\\b(\\w+)\\s+\\1\\b'\n",
    "\n",
    "\n",
    "    output_string = re.sub(pattern, r'\\1', input_string, flags=re.IGNORECASE)\n",
    "\n",
    "    \n",
    "    return output_string\n",
    "\n",
    "input_string = \"Hello hello world world\"\n",
    "print(remove_continuous_duplicate_words(input_string))  # Output: Hello world"
   ]
  },
  {
   "cell_type": "code",
   "execution_count": 30,
   "id": "7470537a",
   "metadata": {},
   "outputs": [
    {
     "name": "stdout",
     "output_type": "stream",
     "text": [
      "True\n",
      "False\n"
     ]
    }
   ],
   "source": [
    "#SOL26)\n",
    "\n",
    "import re\n",
    "\n",
    "def ends_with_alphanumeric(input_string):\n",
    "   \n",
    "    pattern = r'[a-zA-Z0-9]$'\n",
    "\n",
    "    if re.search(pattern, input_string):\n",
    "        return True\n",
    "    else:\n",
    "        return False\n",
    "\n",
    "input_string1 = \"Hellobuby123\"\n",
    "input_string2 = \"Hellobuby123!\"\n",
    "\n",
    "print(ends_with_alphanumeric(input_string1)) \n",
    "print(ends_with_alphanumeric(input_string2))"
   ]
  },
  {
   "cell_type": "code",
   "execution_count": 31,
   "id": "e2d5f40a",
   "metadata": {},
   "outputs": [
    {
     "name": "stdout",
     "output_type": "stream",
     "text": [
      "['#Doltiwal', '#xyzabc', '#Demonetization']\n"
     ]
    }
   ],
   "source": [
    "#sol27)\n",
    "\n",
    "import re\n",
    "\n",
    "def extract_hashtags(input_string):\n",
    "\n",
    "    pattern = r'#\\w+'\n",
    "\n",
    "    hashtags = re.findall(pattern, input_string)\n",
    "\n",
    "    return hashtags\n",
    "\n",
    "\n",
    "input_string = \"RT @kapil_kausik: #Doltiwal I mean #xyzabc is \\\"hurt\\\" by #Demonetization as the same has rendered USELESS <ed><U+00A0><U+00BD><ed><U+00B1><U+0089> \\\"acquired funds\\\" No wo\"\n",
    "print(extract_hashtags(input_string))"
   ]
  },
  {
   "cell_type": "code",
   "execution_count": 32,
   "id": "e163286d",
   "metadata": {},
   "outputs": [
    {
     "name": "stdout",
     "output_type": "stream",
     "text": [
      "@Jags123456 Bharat band on 28??<ed><ed>Those who  are protesting #demonetization  are all different party leaders\n"
     ]
    }
   ],
   "source": [
    "#sol28)\n",
    "\n",
    "import re\n",
    "\n",
    "def remove_u_symbols(input_string):\n",
    "   \n",
    "    pattern = r'<U\\+[0-9A-Fa-f]{4}>'\n",
    "    \n",
    "    output_string = re.sub(pattern, '', input_string)\n",
    "\n",
    "    return output_string\n",
    "\n",
    "input_string = \"@Jags123456 Bharat band on 28??<ed><U+00A0><U+00BD><ed><U+00B8><U+0082>Those who  are protesting #demonetization  are all different party leaders\"\n",
    "print(remove_u_symbols(input_string))"
   ]
  },
  {
   "cell_type": "code",
   "execution_count": 44,
   "id": "5c1a664a",
   "metadata": {},
   "outputs": [
    {
     "ename": "FileNotFoundError",
     "evalue": "[Errno 2] No such file or directory: 'sol29.txt'",
     "output_type": "error",
     "traceback": [
      "\u001b[1;31m---------------------------------------------------------------------------\u001b[0m",
      "\u001b[1;31mFileNotFoundError\u001b[0m                         Traceback (most recent call last)",
      "Cell \u001b[1;32mIn[44], line 6\u001b[0m\n\u001b[0;32m      1\u001b[0m \u001b[38;5;66;03m#sol29)\u001b[39;00m\n\u001b[0;32m      4\u001b[0m \u001b[38;5;28;01mimport\u001b[39;00m \u001b[38;5;21;01mre\u001b[39;00m\n\u001b[1;32m----> 6\u001b[0m \u001b[38;5;28;01mwith\u001b[39;00m \u001b[38;5;28mopen\u001b[39m(\u001b[38;5;124m'\u001b[39m\u001b[38;5;124msol29.txt\u001b[39m\u001b[38;5;124m'\u001b[39m, \u001b[38;5;124m'\u001b[39m\u001b[38;5;124mr\u001b[39m\u001b[38;5;124m'\u001b[39m) \u001b[38;5;28;01mas\u001b[39;00m file:\n\u001b[0;32m      7\u001b[0m     text \u001b[38;5;241m=\u001b[39m file\u001b[38;5;241m.\u001b[39mread()\n\u001b[0;32m      9\u001b[0m pattern \u001b[38;5;241m=\u001b[39m re\u001b[38;5;241m.\u001b[39mcompile(\u001b[38;5;124mr\u001b[39m\u001b[38;5;124m'\u001b[39m\u001b[38;5;124m(\u001b[39m\u001b[38;5;124m\\\u001b[39m\u001b[38;5;124md\u001b[39m\u001b[38;5;132;01m{2}\u001b[39;00m\u001b[38;5;124m)-(\u001b[39m\u001b[38;5;124m\\\u001b[39m\u001b[38;5;124md\u001b[39m\u001b[38;5;132;01m{2}\u001b[39;00m\u001b[38;5;124m)-(\u001b[39m\u001b[38;5;124m\\\u001b[39m\u001b[38;5;124md\u001b[39m\u001b[38;5;132;01m{4}\u001b[39;00m\u001b[38;5;124m)\u001b[39m\u001b[38;5;124m'\u001b[39m)\n",
      "File \u001b[1;32m~\\anaconda3\\anaconda\\Lib\\site-packages\\IPython\\core\\interactiveshell.py:284\u001b[0m, in \u001b[0;36m_modified_open\u001b[1;34m(file, *args, **kwargs)\u001b[0m\n\u001b[0;32m    277\u001b[0m \u001b[38;5;28;01mif\u001b[39;00m file \u001b[38;5;129;01min\u001b[39;00m {\u001b[38;5;241m0\u001b[39m, \u001b[38;5;241m1\u001b[39m, \u001b[38;5;241m2\u001b[39m}:\n\u001b[0;32m    278\u001b[0m     \u001b[38;5;28;01mraise\u001b[39;00m \u001b[38;5;167;01mValueError\u001b[39;00m(\n\u001b[0;32m    279\u001b[0m         \u001b[38;5;124mf\u001b[39m\u001b[38;5;124m\"\u001b[39m\u001b[38;5;124mIPython won\u001b[39m\u001b[38;5;124m'\u001b[39m\u001b[38;5;124mt let you open fd=\u001b[39m\u001b[38;5;132;01m{\u001b[39;00mfile\u001b[38;5;132;01m}\u001b[39;00m\u001b[38;5;124m by default \u001b[39m\u001b[38;5;124m\"\u001b[39m\n\u001b[0;32m    280\u001b[0m         \u001b[38;5;124m\"\u001b[39m\u001b[38;5;124mas it is likely to crash IPython. If you know what you are doing, \u001b[39m\u001b[38;5;124m\"\u001b[39m\n\u001b[0;32m    281\u001b[0m         \u001b[38;5;124m\"\u001b[39m\u001b[38;5;124myou can use builtins\u001b[39m\u001b[38;5;124m'\u001b[39m\u001b[38;5;124m open.\u001b[39m\u001b[38;5;124m\"\u001b[39m\n\u001b[0;32m    282\u001b[0m     )\n\u001b[1;32m--> 284\u001b[0m \u001b[38;5;28;01mreturn\u001b[39;00m io_open(file, \u001b[38;5;241m*\u001b[39margs, \u001b[38;5;241m*\u001b[39m\u001b[38;5;241m*\u001b[39mkwargs)\n",
      "\u001b[1;31mFileNotFoundError\u001b[0m: [Errno 2] No such file or directory: 'sol29.txt'"
     ]
    }
   ],
   "source": [
    "#sol29)\n",
    "\n",
    "\n",
    "import re\n",
    "\n",
    "with open('sol29.txt', 'r') as file:\n",
    "    text = file.read()\n",
    "\n",
    "pattern = re.compile(r'(\\d{2})-(\\d{2})-(\\d{4})')\n",
    "\n",
    "matches = pattern.finditer(text)\n",
    "\n",
    "print(\"Extracted dates:\")\n",
    "for match in matches:\n",
    "    day, month, year = match.groups()\n",
    "    print(f\"{day}-{month}-{year}\")"
   ]
  },
  {
   "cell_type": "code",
   "execution_count": 34,
   "id": "35f0f4f6",
   "metadata": {},
   "outputs": [
    {
     "name": "stdout",
     "output_type": "stream",
     "text": [
      "following example creates  ArrayLt  a capacity   elements. 4 elements   added   ArrayLt d  ArrayLt  trimmed accordingly.\n"
     ]
    }
   ],
   "source": [
    "#sol30)\n",
    "\n",
    "import re\n",
    "\n",
    "def remove_words_of_length_2_to_4(text):\n",
    "   \n",
    "    word_pattern = re.compile(r'\\b\\w{2,4}\\b')\n",
    "    words = word_pattern.findall(text)\n",
    "    for word in words:\n",
    "        text = text.replace(word, '').strip()\n",
    "    return text\n",
    "\n",
    "text = \"The following example creates an ArrayList with a capacity of 50 elements. 4 elements are then added to the ArrayList and the ArrayList is trimmed accordingly.\"\n",
    "print(remove_words_of_length_2_to_4(text))"
   ]
  },
  {
   "cell_type": "code",
   "execution_count": null,
   "id": "f1947ff5",
   "metadata": {},
   "outputs": [],
   "source": []
  }
 ],
 "metadata": {
  "kernelspec": {
   "display_name": "Python 3 (ipykernel)",
   "language": "python",
   "name": "python3"
  },
  "language_info": {
   "codemirror_mode": {
    "name": "ipython",
    "version": 3
   },
   "file_extension": ".py",
   "mimetype": "text/x-python",
   "name": "python",
   "nbconvert_exporter": "python",
   "pygments_lexer": "ipython3",
   "version": "3.11.4"
  }
 },
 "nbformat": 4,
 "nbformat_minor": 5
}
